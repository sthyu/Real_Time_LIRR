{
  "cells": [
    {
      "cell_type": "code",
      "execution_count": 1,
      "metadata": {
        "colab": {
          "base_uri": "https://localhost:8080/",
          "height": 342
        },
        "id": "YJ5cDAZpoPBx",
        "outputId": "3552e98e-c2c0-4e1e-8f27-d0a7ad29f705"
      },
      "outputs": [
        {
          "output_type": "stream",
          "name": "stdout",
          "text": [
            "Collecting gtfs-realtime-bindings\n",
            "  Downloading gtfs-realtime-bindings-1.0.0.tar.gz (6.2 kB)\n",
            "  Preparing metadata (setup.py) ... \u001b[?25l\u001b[?25hdone\n",
            "Requirement already satisfied: setuptools in /usr/local/lib/python3.10/dist-packages (from gtfs-realtime-bindings) (75.1.0)\n",
            "Requirement already satisfied: protobuf in /usr/local/lib/python3.10/dist-packages (from gtfs-realtime-bindings) (4.25.5)\n",
            "Building wheels for collected packages: gtfs-realtime-bindings\n",
            "  Building wheel for gtfs-realtime-bindings (setup.py) ... \u001b[?25l\u001b[?25hdone\n",
            "  Created wheel for gtfs-realtime-bindings: filename=gtfs_realtime_bindings-1.0.0-py3-none-any.whl size=5988 sha256=d876c1bb75348837babe54b88377e9de53eac68b9ba19d87b55681bdacec60f1\n",
            "  Stored in directory: /root/.cache/pip/wheels/43/98/27/68e4d1de8bb9d8505cfe412bf9af51e66f3e3bd2c98c849c3f\n",
            "Successfully built gtfs-realtime-bindings\n",
            "Installing collected packages: gtfs-realtime-bindings\n",
            "Successfully installed gtfs-realtime-bindings-1.0.0\n"
          ]
        },
        {
          "output_type": "display_data",
          "data": {
            "application/vnd.colab-display-data+json": {
              "pip_warning": {
                "packages": [
                  "google"
                ]
              },
              "id": "4d15d04557fc4967b1e5774f4e1964c8"
            }
          },
          "metadata": {}
        }
      ],
      "source": [
        "pip install --upgrade gtfs-realtime-bindings\n"
      ]
    },
    {
      "cell_type": "code",
      "execution_count": 2,
      "metadata": {
        "colab": {
          "base_uri": "https://localhost:8080/"
        },
        "id": "RcINK3w5oreL",
        "outputId": "68736a90-4ab7-4d98-f885-fcb7b52af207"
      },
      "outputs": [
        {
          "output_type": "stream",
          "name": "stdout",
          "text": [
            "Mounted at /content/drive\n"
          ]
        }
      ],
      "source": [
        "from google.colab import drive\n",
        "drive.mount('/content/drive')\n",
        "\n",
        "from google.transit import gtfs_realtime_pb2\n",
        "import requests\n",
        "import time\n",
        "from datetime import datetime, timezone, timedelta\n",
        "import os\n",
        "import pandas as pd\n",
        "import numpy as np\n",
        "#from protobuf_to_dict import protobuf_to_dict\n",
        "import sqlite3\n",
        "import csv\n",
        "import matplotlib.pyplot as plt\n",
        "#Following 2 lines added for Google Colab\n",
        "base_dir = '/content/drive/My Drive/Real_Time_LIRR/'\n",
        "os.chdir(base_dir)\n",
        "\n",
        "def db_setup():\n",
        "    con = sqlite3.connect(\"lirr_gtfs.db\")\n",
        "    cur = con.cursor()\n",
        "\n",
        "    # Drop tables\n",
        "    cur.execute('DROP TABLE IF EXISTS agency')\n",
        "    cur.execute('DROP TABLE IF EXISTS calendar_dates')\n",
        "    cur.execute('DROP TABLE IF EXISTS feed_info')\n",
        "    cur.execute('DROP TABLE IF EXISTS routes')\n",
        "    cur.execute('DROP TABLE IF EXISTS shapes')\n",
        "    cur.execute('DROP TABLE IF EXISTS stop_times')\n",
        "    cur.execute('DROP TABLE IF EXISTS stops')\n",
        "    cur.execute('DROP TABLE IF EXISTS transfers')\n",
        "    cur.execute('DROP TABLE IF EXISTS trips')\n",
        "    #crete table\n",
        "    cur.execute('''CREATE TABLE IF NOT EXISTS agency (\n",
        "                        agency_id TEXT PRIMARY KEY,\n",
        "                        agency_name TEXT,\n",
        "                        agency_url TEXT,\n",
        "                        agency_timezone TEXT,\n",
        "                        agency_lang TEXT,\n",
        "                        agency_phone TEXT)''')\n",
        "\n",
        "    cur.execute('''CREATE TABLE IF NOT EXISTS calendar_dates (\n",
        "                        service_id TEXT,\n",
        "                        date TEXT,\n",
        "                        exception_type INTEGER,\n",
        "                        PRIMARY KEY (service_id, date))''')\n",
        "\n",
        "    cur.execute('''CREATE TABLE IF NOT EXISTS feed_info (\n",
        "                        feed_publisher_name TEXT,\n",
        "                        feed_publisher_url TEXT,\n",
        "                        feed_timezone TEXT,\n",
        "                        feed_lang TEXT,\n",
        "                        feed_version TEXT)''')\n",
        "\n",
        "    cur.execute('''CREATE TABLE IF NOT EXISTS routes (\n",
        "                        route_id TEXT PRIMARY KEY,\n",
        "                        route_long_name TEXT,\n",
        "                        route_type INTEGER,\n",
        "                        route_color TEXT,\n",
        "                        route_text_color TEXT)''')\n",
        "\n",
        "    cur.execute('''CREATE TABLE IF NOT EXISTS shapes (\n",
        "                        shape_id TEXT,\n",
        "                        shape_pt_lat REAL,\n",
        "                        shape_pt_lon REAL,\n",
        "                        shape_pt_sequence INTEGER)''')\n",
        "\n",
        "    cur.execute('''CREATE TABLE IF NOT EXISTS stop_times (\n",
        "                        trip_id TEXT,\n",
        "                        arrival_time TEXT,\n",
        "                        departure_time TEXT,\n",
        "                        stop_id TEXT,\n",
        "                        stop_sequence INTEGER,\n",
        "                        pickup_type INTEGER,\n",
        "                        drop_off_type INTEGER)''')\n",
        "\n",
        "    cur.execute('''CREATE TABLE IF NOT EXISTS stops (\n",
        "                        stop_id TEXT PRIMARY KEY,\n",
        "                        stop_code TEXT,\n",
        "                        stop_name TEXT,\n",
        "                        stop_lat REAL,\n",
        "                        stop_lon REAL,\n",
        "                        stop_url TEXT,\n",
        "                        wheelchair_boarding INTEGER)''')\n",
        "\n",
        "    cur.execute('''CREATE TABLE IF NOT EXISTS transfers (\n",
        "                        from_stop_id TEXT,\n",
        "                        to_stop_id TEXT,\n",
        "                        from_trip_id TEXT,\n",
        "                        to_trip_id TEXT,\n",
        "                        transfer_type INTEGER,\n",
        "                        min_transfer_time INTEGER)''')\n",
        "\n",
        "    cur.execute('''CREATE TABLE IF NOT EXISTS trips (\n",
        "                        route_id TEXT,\n",
        "                        service_id TEXT,\n",
        "                        trip_id TEXT PRIMARY KEY,\n",
        "                        trip_headsign TEXT,\n",
        "                        trip_short_name TEXT,\n",
        "                        direction_id INTEGER,\n",
        "                        shape_id TEXT,\n",
        "                        peak_offpeak INTEGER)''')\n",
        "\n",
        "    file_list = {\n",
        "        'agency': 'google_transit/agency.txt',\n",
        "        'calendar_dates': 'google_transit/calendar_dates.txt',\n",
        "        'feed_info': 'google_transit/feed_info.txt',\n",
        "        'routes': 'google_transit/routes.txt',\n",
        "        'shapes': 'google_transit/shapes.txt',\n",
        "        'stop_times': 'google_transit/stop_times.txt',\n",
        "        'stops': 'google_transit/stops.txt',\n",
        "        'transfers': 'google_transit/transfers.txt',\n",
        "        'trips': 'google_transit/trips.txt'\n",
        "    }\n",
        "\n",
        "\n",
        "    for table_name, file_path in file_list.items():\n",
        "        with open(file_path, 'r') as file:\n",
        "            reader = csv.reader(file, delimiter=',')\n",
        "            headers = next(reader)\n",
        "            placeholders = ','.join(['?'] * len(headers))\n",
        "            query = f'INSERT OR IGNORE INTO {table_name} ({\",\".join(headers)}) VALUES ({placeholders})'\n",
        "            for row in reader:\n",
        "                try:\n",
        "                    cur.execute(query, row)\n",
        "                except sqlite3.IntegrityError as e:\n",
        "                    print(f\"Error inserting row into {table_name}: {row}\")\n",
        "                    print(e)\n",
        "\n",
        "    con.commit()\n",
        "    con.close()\n",
        "\n",
        "def import_txt_as_list(path):\n",
        "    lists = {}\n",
        "    for file_name in os.listdir(path):\n",
        "        if file_name.endswith('.txt'):\n",
        "            file_path = os.path.join(path, file_name)\n",
        "            with open(file_path, 'r') as file:\n",
        "                lists[file_name] = [line.strip() for line in file]\n",
        "    return lists\n",
        "csv_path_const = '/content/drive/My Drive/Real_Time_LIRR/data/' #With google drive\n",
        "#csv_path_const = 'data/gtfs_data_collection.csv' #original"
      ]
    },
    {
      "cell_type": "markdown",
      "source": [
        "Defines what is considered a delay in terms of seconds. The official LIRR Delay metric is when each train reaches its terminal more than 5 min 59 seconds late, however because transfers can be as tight as 5 minutes long my metric is when each train passes this station later than 60 seconds of its scheduled time."
      ],
      "metadata": {
        "id": "3j5g2G3B3w0G"
      }
    },
    {
      "cell_type": "code",
      "execution_count": 3,
      "metadata": {
        "id": "RG1NsMFWpF9k"
      },
      "outputs": [],
      "source": [
        "DELAY = 60"
      ]
    },
    {
      "cell_type": "code",
      "execution_count": 4,
      "metadata": {
        "id": "ZDHjHDpApaAe"
      },
      "outputs": [],
      "source": [
        "def analyze():\n",
        "    return 0\n",
        "\n",
        "\n",
        "def print_all_tables():\n",
        "    con = sqlite3.connect(\"lirr_gtfs.db\")\n",
        "    cur = con.cursor()\n",
        "    tables = ['agency', 'calendar_dates', 'feed_info', 'routes', 'shapes', 'stop_times', 'stops', 'transfers', 'trips']\n",
        "\n",
        "    for table in tables:\n",
        "        cur.execute(f'SELECT * FROM {table}')\n",
        "        rows = cur.fetchall()\n",
        "        print(f'Table: {table}')\n",
        "        for row in rows:\n",
        "            print(row)\n",
        "        print('\\n')\n",
        "\n",
        "    con.close()"
      ]
    },
    {
      "cell_type": "code",
      "execution_count": 58,
      "metadata": {
        "id": "In-wobNypnaU"
      },
      "outputs": [],
      "source": [
        "def get_info_trip(cur, train):\n",
        "    trip_id = train['trip_id']\n",
        "    trip = cur.execute(f'SELECT * FROM trips WHERE trip_id = ?', (trip_id,)).fetchone()\n",
        "    route = trip[0]\n",
        "    service_id = trip[1]\n",
        "    trip_id = trip[2]\n",
        "    trip_headsign = trip[3]\n",
        "    trip_short_name = trip[4]\n",
        "    direction_id = trip[5]\n",
        "    shape_id = trip[6] #not used\n",
        "    peak_offpeak = trip[7]\n",
        "    terminal_info = [route, service_id, trip_headsign, trip_short_name, direction_id, peak_offpeak]\n",
        "    return terminal_info\n",
        "\n",
        "\n",
        "#given a file path, combine every file inside the list into a single pandas dataframe\n",
        "def combine_all_csv(file_path):\n",
        "\n",
        "    #list all the files from the directory\n",
        "    file_list = os.listdir(file_path)\n",
        "    #print(file_list)\n",
        "    combined_list = []\n",
        "    for file in file_list:\n",
        "        file_str = file_path + '/' + file\n",
        "        csv_data = read_csv(file_str)\n",
        "\n",
        "        combined_list.append(csv_data)\n",
        "        #df = pd.read_csv(file_str)\n",
        "        #df_combined = df_combined.append(df, ignore_index=True)\n",
        "    #file_list\n",
        "    #df_combined = pd.DataFrame(combined_list)\n",
        "    df_combined = pd.concat([pd.DataFrame(lst) for lst in combined_list], ignore_index=True) #Concatenate the list of DataFrames into a single DataFrame\n",
        "    return df_combined\n",
        "\n",
        "\n",
        "#probably redundant\n",
        "def read_csv(csv_path):\n",
        "    data = []\n",
        "    with open(csv_path, 'r', encoding='utf-8') as csvfile:\n",
        "        reader = csv.DictReader(csvfile)\n",
        "        for row in reader:\n",
        "            data.append(row)\n",
        "    return data\n",
        "\n",
        "def find_train_csv(panda_df, train_id):\n",
        "    train_data = panda_df[panda_df['train_id'] == train_id]\n",
        "    #if failed\n",
        "    if(train_data.empty):\n",
        "        return None\n",
        "    return train_data\n",
        "\n",
        "def find_arrival_time(train_data):\n",
        "    return train_data['local_arrival_time']\n",
        "\n",
        "def convert_to_seconds(delay_str):\n",
        "    parts = delay_str.split()\n",
        "    minutes = int(parts[0]) if parts[1] == 'm' else 0\n",
        "    seconds = int(parts[2]) if parts[3] == 's' else 0\n",
        "    total_seconds = minutes * 60 + seconds\n",
        "    return total_seconds if delay_str[0] != '-' else -total_seconds\n",
        "\n",
        "#Given a delay string, convert it to a number representing seconds\n",
        "def parse_delay(delay):\n",
        "\n",
        "    sign = 1\n",
        "    if delay.startswith('-'):\n",
        "        sign = -1\n",
        "        delay = delay[1:]\n",
        "\n",
        "    parts = delay.split(' ')\n",
        "    minutes = int(parts[0].replace('m', ''))\n",
        "    seconds = int(parts[1].replace('s', ''))\n",
        "    total_seconds = minutes * 60 + seconds\n",
        "    if(sign == -1):\n",
        "        total_seconds = total_seconds * -1\n",
        "    return total_seconds\n",
        "\n",
        "\n",
        "#Given OPTION = -1, remove delays <-15 min or >15 min (Excessive delays)\n",
        "def clean_data_drop_outliers(data_frame, option):\n",
        "    data_frame_new = data_frame.copy()\n",
        "    # Remove duplicate rows this does not work\n",
        "    #data_frame_new = data_frame_new.drop_duplicates()\n",
        "\n",
        "    # If option is -1, remove rows with excessive delays\n",
        "    if option == -1:\n",
        "        indices_to_drop = []\n",
        "        for index, row in data_frame_new.iterrows():\n",
        "            delay_converted_s = parse_delay(row['delay_formatted'])\n",
        "            if delay_converted_s > (15 * 60) or delay_converted_s < (-15 * 60):\n",
        "                indices_to_drop.append(index)\n",
        "\n",
        "        data_frame_new = data_frame_new.drop(indices_to_drop)\n",
        "\n",
        "\n",
        "    data_frame_new['delay_formatted'] = data_frame_new['delay_formatted'].apply(parse_delay)\n",
        "    return data_frame_new\n",
        "\n",
        "#return number of trains aka length of dataframe\n",
        "def count_trains(pandas_df):\n",
        "    return len(pandas_df)\n",
        "\n",
        "#counts the number of trains on a particular route\n",
        "#Routes/Branches: Babylon, Hempstead, Oyster Bay, Ronkonkoma, Montauk, Long Beach, Far Rockaway, West Hempstead, Port Washington, Port Jefferson, Belmont Park, City Terminal\n",
        "def count_routes(pandas_df):\n",
        "    route_counter =  [0,0,0,0,0,0,0,0,0,0,0,0]\n",
        "    for index, train in pandas_df.iterrows():\n",
        "        route_id = train['route_id']\n",
        "\n",
        "        route_counter[int(route_id)-1] = route_counter[int(route_id)-1] + 1\n",
        "\n",
        "    return route_counter\n",
        "\n",
        "#count number of trains on each route that arrive 0 min or later\n",
        "def delayed_trains_per_route(pandas_df):\n",
        "    route_counter =  [0,0,0,0,0,0,0,0,0,0,0,0]\n",
        "    for index, train in pandas_df.iterrows():\n",
        "        route_id = train['route_id']\n",
        "        #delay = train['delay_formatted']\n",
        "        delay_seconds = train['delay_formatted']\n",
        "        #delay_formatted = delay.time()\n",
        "        #delay_seconds = parse_delay(delay_formatted)\n",
        "        if(delay_seconds>DELAY):\n",
        "\n",
        "          route_id = train['route_id']\n",
        "          route_counter[int(route_id)-1] = route_counter[int(route_id)-1] + 1\n",
        "    return route_counter\n",
        "\n",
        "#categorize the severity of delays that happen (negative delay = on time)\n",
        "def category_of_delays(pandas_df):\n",
        "    categories = [-float('inf'), -600, -300, -120, 0, 120, 300, 600, float('inf')]\n",
        "    labels = ['> -10 min', '(-10 to -5 min]', '(-5 to -2 min]', '(-2-0 min]', '(0-2 min]', '(2-5 min]', '(5-10 min]', '>10+ min']\n",
        "    count_df = pandas_df.copy()\n",
        "\n",
        "    count_df['category'] = pd.cut(count_df['delay_formatted'], bins=categories, labels=labels)\n",
        "    category_counts = count_df['category'].value_counts().reindex(labels, fill_value=0)\n",
        "    #print(category_counts)\n",
        "    return count_df,category_counts\n",
        "#sorts trains per hour\n",
        "def delayed_trains_per_hour(pandas_df):\n",
        "    count_df = pandas_df.copy()\n",
        "    count_df['local_arrival_time'] = pd.to_datetime(count_df['local_arrival_time'], utc=True)\n",
        "    #count_df['local_arrival_time'] = pd.to_datetime(count_df['local_arrival_time'], format='%Y-%m-%d %H:%M:%S')\n",
        "    #count_df['local_arrival_time'] = pd.to_datetime(count_df['local_arrival_time'], errors='coerce').dt.tz_localize(None)\n",
        "\n",
        "\n",
        "\n",
        "    count_df['hour'] = pd.to_datetime(count_df['local_arrival_time']).dt.strftime('%H')\n",
        "\n",
        "    delayed_trains_df = count_df[count_df['delay_formatted'] > DELAY]\n",
        "    delayed_trains_count = delayed_trains_df.groupby('hour').size().reset_index(name='delayed_trains_count')\n",
        "    total_trains_count = count_df.groupby('hour').size().reset_index(name='total_trains_count')\n",
        "\n",
        "    all_hours = pd.DataFrame({'hour': [f'{i:02d}' for i in range(24)]})\n",
        "\n",
        "    merged_counts = pd.merge(all_hours, delayed_trains_count, on='hour', how='left')\n",
        "    merged_counts = pd.merge(merged_counts, total_trains_count, on='hour', how='left')\n",
        "\n",
        "    merged_counts['delayed_trains_count'] = merged_counts['delayed_trains_count'].fillna(0).astype(int)\n",
        "    merged_counts['total_trains_count'] = merged_counts['total_trains_count'].fillna(0).astype(int)\n",
        "\n",
        "    merged_counts['percentage_delayed'] = (\n",
        "        (merged_counts['delayed_trains_count'] / merged_counts['total_trains_count']) * 100\n",
        "        ).fillna(0)\n",
        "\n",
        "    return merged_counts\n",
        "\n",
        "\n",
        "\n"
      ]
    },
    {
      "cell_type": "code",
      "execution_count": 6,
      "metadata": {
        "id": "jVhkyp_ca9f0"
      },
      "outputs": [],
      "source": [
        "#Get all transfers of a particualr trip at station station_id\n",
        "def get_transfers_trip(cur, station_id, trip_id):\n",
        "    #transfers = cur.execute(f'SELECT ALL FROM transfers WHERE from_stop_id = ?',(station_id)).fechall()\n",
        "    query = '''\n",
        "    SELECT *\n",
        "    FROM transfers\n",
        "    WHERE from_stop_id = ?\n",
        "    AND (from_trip_id = ? OR to_trip_id = ?)\n",
        "    '''\n",
        "    cur.execute(query, (station_id, trip_id, trip_id))\n",
        "    transfers = cur.fetchall()\n",
        "    return transfers\n",
        "\n",
        "def convert_to_seconds (time_str):\n",
        "    hours, minutes, seconds = map(int, time_str.split(':'))\n",
        "    # Calculate the total number of seconds\n",
        "    seconds = hours * 3600 + minutes * 60 + seconds\n",
        "\n",
        "    return seconds\n",
        "#Method to find how many transfers were \"missed\". This assumes a 3 min buffer period for all transfers.\n",
        "#Trains with <3 min buffer period\n",
        "#Obtains all transfer times via analyzing stop_times.txt\n",
        "#Returns number of transfers where transfer time is in the negatives\n",
        "\n",
        "\n",
        "def analyze_transfers_trip_act(cur, transfers, station_id, expected_val, df):\n",
        "    missed_transfers = 0\n",
        "    unknown_transfers = 0\n",
        "\n",
        "\n",
        "    for transfer in transfers:\n",
        "        from_stop_id, to_stop_id, from_trip_id, to_trip_id, transfer_id, _ = transfer\n",
        "\n",
        "\n",
        "        transfer_found = False\n",
        "        transfer_time = None\n",
        "\n",
        "\n",
        "        if expected_val == 1:\n",
        "\n",
        "            transfer_row_from = df[df['trip_id'] == from_trip_id]\n",
        "            if not transfer_row_from.empty:\n",
        "                transfer_found = True\n",
        "                transfer_time = pd.to_datetime(transfer_row_from['local_arrival_time'].iloc[0])\n",
        "        else:\n",
        "            transfer_row_to = df[df['trip_id'] == to_trip_id]\n",
        "            if not transfer_row_to.empty:\n",
        "                transfer_found = True\n",
        "                transfer_time = pd.to_datetime(transfer_row_to['local_arrival_time'].iloc[0])\n",
        "\n",
        "        if not transfer_found:\n",
        "            unknown_transfers += 1\n",
        "            continue\n",
        "\n",
        "\n",
        "        query = '''\n",
        "        SELECT arrival_time, departure_time\n",
        "        FROM stop_times\n",
        "        WHERE trip_id = ? AND stop_id = ?\n",
        "        '''\n",
        "\n",
        "\n",
        "        cur.execute(query, (from_trip_id, station_id))\n",
        "        stop_times_from = cur.fetchall()\n",
        "\n",
        "\n",
        "        cur.execute(query, (to_trip_id, station_id))\n",
        "        stop_times_to = cur.fetchall()\n",
        "\n",
        "\n",
        "        if not stop_times_from and not stop_times_to:\n",
        "            unknown_transfers += 1\n",
        "            continue\n",
        "\n",
        "\n",
        "        transfer_time = transfer_time.tz_localize(None)\n",
        "        buffer = timedelta(minutes=3)\n",
        "\n",
        "        missed_in_from = missed_in_to = False\n",
        "\n",
        "\n",
        "        if stop_times_from:\n",
        "            arrival_time_str, _ = stop_times_from[0]\n",
        "            arrival_time_from = pd.to_datetime(arrival_time_str).tz_localize(None)\n",
        "            if expected_val == 1 and transfer_time - arrival_time_from < buffer:\n",
        "                missed_in_from = True\n",
        "            elif expected_val != 1 and transfer_time - arrival_time_from < buffer:\n",
        "                missed_in_from = True\n",
        "\n",
        "\n",
        "        if stop_times_to:\n",
        "            arrival_time_str, _ = stop_times_to[0]\n",
        "            arrival_time_to = pd.to_datetime(arrival_time_str).tz_localize(None)\n",
        "            if expected_val == 1 and transfer_time - arrival_time_to < buffer:\n",
        "                missed_in_to = True\n",
        "            elif expected_val != 1 and transfer_time - arrival_time_to < buffer:\n",
        "                missed_in_to = True\n",
        "\n",
        "\n",
        "        if missed_in_from or missed_in_to:\n",
        "            missed_transfers += 1\n",
        "\n",
        "    return missed_transfers, unknown_transfers\n"
      ]
    },
    {
      "cell_type": "code",
      "execution_count": 7,
      "metadata": {
        "id": "g7F7ebNku-LW"
      },
      "outputs": [],
      "source": [
        "\n",
        "\n",
        "def time_to_seconds(t):\n",
        "    \"\"\"Convert a time object to the number of seconds since midnight.\"\"\"\n",
        "    return t.hour * 3600 + t.minute * 60 + t.second\n",
        "\n",
        "def analyze_transfers_trip(cur, station_id, df):\n",
        "    missed_transfer_count = 0\n",
        "\n",
        "\n",
        "    for index, row in df.iterrows():\n",
        "        trip_id = row['trip_id']\n",
        "        arrival_time_str = row['local_arrival_time']\n",
        "\n",
        "\n",
        "        arrival_time_str = arrival_time_str[:19]\n",
        "        arrival_time = datetime.strptime(arrival_time_str, \"%Y-%m-%d %H:%M:%S\").time()\n",
        "\n",
        "\n",
        "        cur.execute('''\n",
        "            SELECT from_stop_id, to_stop_id, from_trip_id, to_trip_id, transfer_type, min_transfer_time\n",
        "            FROM transfers\n",
        "            WHERE (from_trip_id = ? OR to_trip_id = ?)\n",
        "            AND (from_stop_id = ? OR to_stop_id = ?)\n",
        "        ''', (trip_id, trip_id, station_id, station_id))\n",
        "\n",
        "        transfers = cur.fetchall()\n",
        "\n",
        "\n",
        "        for transfer in transfers:\n",
        "\n",
        "            from_stop_id, to_stop_id, from_trip_id, to_trip_id, transfer_type, min_transfer_time = transfer\n",
        "\n",
        "\n",
        "            if trip_id == from_trip_id:\n",
        "                paired_trip_id = to_trip_id\n",
        "            elif trip_id == to_trip_id:\n",
        "                paired_trip_id = from_trip_id\n",
        "            else:\n",
        "                continue\n",
        "\n",
        "\n",
        "            cur.execute('''\n",
        "                SELECT departure_time\n",
        "                FROM stop_times\n",
        "                WHERE trip_id = ? AND stop_id = ?\n",
        "                ORDER BY stop_sequence\n",
        "                LIMIT 1\n",
        "            ''', (paired_trip_id, station_id))\n",
        "\n",
        "            paired_departure_time_row = cur.fetchone()\n",
        "\n",
        "            if paired_departure_time_row:\n",
        "\n",
        "                paired_departure_time_str = paired_departure_time_row[0]\n",
        "                paired_departure_time = datetime.strptime(paired_departure_time_str, \"%H:%M:%S\").time()\n",
        "\n",
        "\n",
        "                arrival_seconds = time_to_seconds(arrival_time)\n",
        "                paired_departure_seconds = time_to_seconds(paired_departure_time)\n",
        "\n",
        "\n",
        "                if (paired_departure_seconds <= arrival_seconds) or (abs(paired_departure_seconds - arrival_seconds) <= 180):\n",
        "                    missed_transfer_count += 1\n",
        "\n",
        "    return missed_transfer_count\n",
        "\n"
      ]
    },
    {
      "cell_type": "code",
      "execution_count": 8,
      "metadata": {
        "id": "V4yIw1v68rJb"
      },
      "outputs": [],
      "source": [
        "def count_delayed_trains_info(pandas_df):\n",
        "\n",
        "    count_df = pandas_df.copy()\n",
        "\n",
        "    for idx, row in count_df.iterrows():\n",
        "        trip_id = row['trip_id']\n",
        "        query = \"\"\"\n",
        "            SELECT peak_offpeak\n",
        "            FROM trips\n",
        "            WHERE trip_id = ?\n",
        "        \"\"\"\n",
        "        result = cur.execute(query, (trip_id,)).fetchone()\n",
        "\n",
        "        if result:\n",
        "            count_df.at[idx, 'peak_offpeak'] = result[0]\n",
        "        else:\n",
        "            count_df.at[idx, 'peak_offpeak'] = 3\n",
        "    am_peak_count = count_df[(count_df['direction_id'].astype(int) == 1) & (count_df['peak_offpeak'].astype(int) == 1)].shape[0]\n",
        "    pm_peak_count = count_df[(count_df['direction_id'].astype(int) == 0) & (count_df['peak_offpeak'].astype(int) == 1)].shape[0]\n",
        "\n",
        "    peak_count = count_df[count_df['peak_offpeak'].astype(int) == 1].shape[0]\n",
        "    off_peak_count = count_df[count_df['peak_offpeak'].astype(int) == 0].shape[0]\n",
        "    unknown_count = count_df[count_df['peak_offpeak'].astype(int) == 3].shape[0]\n",
        "    print(f\"AM Peak count: {am_peak_count}\")\n",
        "    print(f\"PM Peak count: {pm_peak_count}\")\n",
        "    print(f\"Peak count: {peak_count}\")\n",
        "    print(f\"Off Peak count: {off_peak_count}\")\n",
        "    print(f\"Unknown count: {unknown_count}\")\n",
        "    print(f\"Total count: {len(pandas_df)}\")\n",
        "    result = {\n",
        "        'AM Peak': am_peak_count,\n",
        "        'PM Peak': pm_peak_count,\n",
        "        'Peak': peak_count,\n",
        "        'Off Peak': off_peak_count,\n",
        "        'Unknown': unknown_count\n",
        "    }\n",
        "    return count_df, result\n"
      ]
    },
    {
      "cell_type": "code",
      "source": [
        "def get_delay_numeric_percentage(pandas_df):\n",
        "  tot_trains = len(pandas_df)\n",
        "  delayed_trains_info = pandas_df[pandas_df['delay_formatted'] > DELAY]\n",
        "\n",
        "  print(\"Num trains delayed:\")\n",
        "  print(len(delayed_trains_info))\n",
        "  print(\"Percentage of trains delayed:\")\n",
        "  print(len(delayed_trains_info)/tot_trains)\n",
        "\n",
        "  return tot_trains, len(delayed_trains_info)\n"
      ],
      "metadata": {
        "id": "SG0Bdl0E6aIZ"
      },
      "execution_count": 9,
      "outputs": []
    },
    {
      "cell_type": "code",
      "execution_count": 10,
      "metadata": {
        "id": "epRHWJQdxM7_"
      },
      "outputs": [],
      "source": [
        "def count_delayed_trains_info_n(pandas_df, res):\n",
        "    #GIVEN modified dataframe with peak_offpeak\n",
        "\n",
        "    count_df = pandas_df.copy()\n",
        "\n",
        "\n",
        "    delayed_trains_count = len(count_df[count_df['delay_formatted'].astype(int) > DELAY])\n",
        "    print(f\"Total delayed trains: {delayed_trains_count}\")\n",
        "\n",
        "    # Filter out delayed trains only\n",
        "    delayed_trains_info = count_df[count_df['delay_formatted'] > DELAY]\n",
        "\n",
        "    # Calculate the average delay time for delayed trains\n",
        "    avg_delay = delayed_trains_info['delay_formatted'].mean()/60\n",
        "    print(f\"Average delay time (minutes): {avg_delay:.2f}\")\n",
        "\n",
        "    am_peak_count = delayed_trains_info[(delayed_trains_info['direction_id'].astype(int) == 1) & (delayed_trains_info['peak_offpeak'].astype(int) == 1)].shape[0]\n",
        "    pm_peak_count = delayed_trains_info[(delayed_trains_info['direction_id'].astype(int) == 0) & (delayed_trains_info['peak_offpeak'].astype(int) == 1)].shape[0]\n",
        "    peak_count =delayed_trains_info[delayed_trains_info['peak_offpeak'].astype(int) == 1].shape[0]\n",
        "    off_peak_count = delayed_trains_info[delayed_trains_info['peak_offpeak'].astype(int) == 0].shape[0]\n",
        "    unknown_count = delayed_trains_info[delayed_trains_info['peak_offpeak'].astype(int) == 3].shape[0]\n",
        "    print(\"Number of Late trains: \")\n",
        "    print(f\"AM Peak count: {am_peak_count}\")\n",
        "    print(f\"PM Peak count: {pm_peak_count}\")\n",
        "    print(f\"Peak count: {peak_count}\")\n",
        "    print(f\"Off Peak count: {off_peak_count}\")\n",
        "    print(f\"Unknown count: {unknown_count}\")\n",
        "    print(f\"Total count: {len(pandas_df)}\")\n",
        "    print(\"\")\n",
        "    print(\"Percentage of trains Late: \")\n",
        "    am_peak_percentage = (am_peak_count / res['AM Peak'])*100\n",
        "    pm_peak_percentage = (pm_peak_count / res['PM Peak'])*100\n",
        "    peak_percentage = (peak_count / res['Peak'])*100\n",
        "    off_peak_percentage = (off_peak_count / res['Off Peak'])*100\n",
        "    unknown_percentage = (unknown_count / res['Unknown'])*100\n",
        "    print(f\"AM Peak percentage: {am_peak_percentage:.2f}%\")\n",
        "    print(f\"PM Peak percentage: {pm_peak_percentage:.2f}%\")\n",
        "    print(f\"Peak percentage: {peak_percentage:.2f}%\")\n",
        "    print(f\"Off Peak percentage: {off_peak_percentage:.2f}%\")\n",
        "    print(f\"Unknown percentage: {unknown_percentage:.2f}%\")\n"
      ]
    },
    {
      "cell_type": "markdown",
      "metadata": {
        "id": "PLOtPeVlq1w6"
      },
      "source": [
        "this sets up the SQL tables that are needed for data analysis\n"
      ]
    },
    {
      "cell_type": "markdown",
      "metadata": {
        "id": "e4TipKAqZnsJ"
      },
      "source": [
        "The data is cleaned by removing excessive (>15 min late or >15 min early) delays. Trains which exceed this time period often are either nonrevenue moves, or a result of a massive service disruption (suspension, cancelled train, police activity, mechanical problems, etc.)"
      ]
    },
    {
      "cell_type": "code",
      "execution_count": 11,
      "metadata": {
        "colab": {
          "base_uri": "https://localhost:8080/"
        },
        "id": "fEDhgR6MpvJn",
        "outputId": "51d66a69-5479-49c7-8396-8e003a5d77c6"
      },
      "outputs": [
        {
          "output_type": "stream",
          "name": "stdout",
          "text": [
            "/content/drive/My Drive/Real_Time_LIRR/data/\n",
            "              trip_id direction  delay_formatted         local_arrival_time  \\\n",
            "0       GO301_24_8052                       -119  2024-08-03 13:20:59-04:00   \n",
            "1     GO301_24_6852_2                        -98  2024-08-03 13:08:38-04:00   \n",
            "2     GO301_24_7652_3                        663  2024-08-03 14:08:03-04:00   \n",
            "3       GO301_24_6752                         50  2024-08-03 14:02:50-04:00   \n",
            "4       GO301_24_6252                         57  2024-08-03 13:32:57-04:00   \n",
            "...               ...       ...              ...                        ...   \n",
            "8221    GO303_24_6770                       -150  2025-01-05 21:49:30-05:00   \n",
            "8222    GO303_24_6187                       -274  2025-01-05 21:55:34-05:00   \n",
            "8223    GO303_24_7588                         36  2025-01-05 21:59:36-05:00   \n",
            "8224    GO303_24_8768                       -104  2025-01-05 22:00:44-05:00   \n",
            "8225    GO303_24_8960                       -143  2025-01-05 22:03:23-05:00   \n",
            "\n",
            "     start_date schedule_relationship route_id direction_id  \n",
            "0      20240803                     0        4            0  \n",
            "1      20240803                     0        6            0  \n",
            "2      20240803                     0       10            0  \n",
            "3      20240803                     0        2            0  \n",
            "4      20240803                     0        1            0  \n",
            "...         ...                   ...      ...          ...  \n",
            "8221   20250105                     0        2            0  \n",
            "8222   20250105                     0        1            1  \n",
            "8223   20250105                     0       10            0  \n",
            "8224   20250105                     0        7            0  \n",
            "8225   20250105                     0       12            0  \n",
            "\n",
            "[8191 rows x 8 columns]\n"
          ]
        }
      ],
      "source": [
        "db_setup()\n",
        "\n",
        "#print_all_tables()\n",
        "#csv_path_const_1 = 'data/gtfs_data_collection1.csv'\n",
        "#csv_data = read_csv(csv_path_const_1)\n",
        "#print(csv_data)\n",
        "#first_data = csv_data[0]\n",
        "#print(first_data)\n",
        "\n",
        "con = sqlite3.connect(\"lirr_gtfs.db\")\n",
        "cur = con.cursor()\n",
        "#ti = get_info_trip(cur, first_data)\n",
        "#print(ti)\n",
        "print(csv_path_const)\n",
        "combined_df = combine_all_csv(csv_path_const)\n",
        "\n",
        "#print(combined_df)\n",
        "cleaned_data = clean_data_drop_outliers(combined_df,-1)\n",
        "print(cleaned_data)\n",
        "\n",
        "\n"
      ]
    },
    {
      "cell_type": "markdown",
      "metadata": {
        "id": "IStVrby1PHhJ"
      },
      "source": [
        "Counts the total # of trains in the datasest"
      ]
    },
    {
      "cell_type": "code",
      "execution_count": 12,
      "metadata": {
        "colab": {
          "base_uri": "https://localhost:8080/"
        },
        "id": "tVSiBGqsOE1q",
        "outputId": "489f03df-a579-411d-9917-2b72968f0d45"
      },
      "outputs": [
        {
          "output_type": "execute_result",
          "data": {
            "text/plain": [
              "8191"
            ]
          },
          "metadata": {},
          "execution_count": 12
        }
      ],
      "source": [
        "count_trains(cleaned_data)"
      ]
    },
    {
      "cell_type": "code",
      "source": [
        "get_delay_numeric_percentage(cleaned_data)"
      ],
      "metadata": {
        "colab": {
          "base_uri": "https://localhost:8080/"
        },
        "id": "jVLvxavw7ErA",
        "outputId": "514d76e2-09ae-428d-f5d7-ed78a61b3431"
      },
      "execution_count": 13,
      "outputs": [
        {
          "output_type": "stream",
          "name": "stdout",
          "text": [
            "Num trains delayed:\n",
            "2266\n",
            "Percentage of trains delayed:\n",
            "0.27664509827859846\n"
          ]
        },
        {
          "output_type": "execute_result",
          "data": {
            "text/plain": [
              "(8191, 2266)"
            ]
          },
          "metadata": {},
          "execution_count": 13
        }
      ]
    },
    {
      "cell_type": "code",
      "source": [
        "count_delayed_trains_info(cleaned_data)"
      ],
      "metadata": {
        "colab": {
          "base_uri": "https://localhost:8080/"
        },
        "id": "ouNlFvSr51XE",
        "outputId": "71524c54-f980-4fa9-b7a7-380d64840361"
      },
      "execution_count": 14,
      "outputs": [
        {
          "output_type": "stream",
          "name": "stdout",
          "text": [
            "AM Peak count: 157\n",
            "PM Peak count: 1645\n",
            "Peak count: 1802\n",
            "Off Peak count: 4413\n",
            "Unknown count: 1976\n",
            "Total count: 8191\n"
          ]
        },
        {
          "output_type": "execute_result",
          "data": {
            "text/plain": [
              "(              trip_id direction  delay_formatted         local_arrival_time  \\\n",
              " 0       GO301_24_8052                       -119  2024-08-03 13:20:59-04:00   \n",
              " 1     GO301_24_6852_2                        -98  2024-08-03 13:08:38-04:00   \n",
              " 2     GO301_24_7652_3                        663  2024-08-03 14:08:03-04:00   \n",
              " 3       GO301_24_6752                         50  2024-08-03 14:02:50-04:00   \n",
              " 4       GO301_24_6252                         57  2024-08-03 13:32:57-04:00   \n",
              " ...               ...       ...              ...                        ...   \n",
              " 8221    GO303_24_6770                       -150  2025-01-05 21:49:30-05:00   \n",
              " 8222    GO303_24_6187                       -274  2025-01-05 21:55:34-05:00   \n",
              " 8223    GO303_24_7588                         36  2025-01-05 21:59:36-05:00   \n",
              " 8224    GO303_24_8768                       -104  2025-01-05 22:00:44-05:00   \n",
              " 8225    GO303_24_8960                       -143  2025-01-05 22:03:23-05:00   \n",
              " \n",
              "      start_date schedule_relationship route_id direction_id  peak_offpeak  \n",
              " 0      20240803                     0        4            0           0.0  \n",
              " 1      20240803                     0        6            0           3.0  \n",
              " 2      20240803                     0       10            0           3.0  \n",
              " 3      20240803                     0        2            0           0.0  \n",
              " 4      20240803                     0        1            0           0.0  \n",
              " ...         ...                   ...      ...          ...           ...  \n",
              " 8221   20250105                     0        2            0           3.0  \n",
              " 8222   20250105                     0        1            1           3.0  \n",
              " 8223   20250105                     0       10            0           3.0  \n",
              " 8224   20250105                     0        7            0           3.0  \n",
              " 8225   20250105                     0       12            0           3.0  \n",
              " \n",
              " [8191 rows x 9 columns],\n",
              " {'AM Peak': 157,\n",
              "  'PM Peak': 1645,\n",
              "  'Peak': 1802,\n",
              "  'Off Peak': 4413,\n",
              "  'Unknown': 1976})"
            ]
          },
          "metadata": {},
          "execution_count": 14
        }
      ]
    },
    {
      "cell_type": "markdown",
      "metadata": {
        "id": "GGMUPN5CPPgN"
      },
      "source": [
        "Counts the number of trains that operate each route"
      ]
    },
    {
      "cell_type": "markdown",
      "metadata": {
        "id": "SdRXtboYUI6R"
      },
      "source": [
        "Counts the number of delayed trains per route"
      ]
    },
    {
      "cell_type": "code",
      "execution_count": 15,
      "metadata": {
        "colab": {
          "base_uri": "https://localhost:8080/"
        },
        "id": "l76vOCz8URRC",
        "outputId": "bc40c7dc-93b3-4c41-aae6-acf3a59ea347"
      },
      "outputs": [
        {
          "output_type": "stream",
          "name": "stdout",
          "text": [
            "Trains per route\n",
            "Babylon Branch: 1866\n",
            "Hempstead Branch: 650\n",
            "Oyster Bay Branch: 202\n",
            "Ronkonkoma Branch: 1280\n",
            "Montauk Branch: 195\n",
            "Long Beach Branch: 710\n",
            "Far Rockaway Branch: 691\n",
            "West Hempstead Branch: 541\n",
            "Port Washington Branch: 0\n",
            "Port Jefferson Branch: 1350\n",
            "Belmont Park: 0\n",
            "City Terminal Zone: 706\n",
            "------------------------------------------------------\n",
            "Delayed trains per route\n",
            "Babylon Branch: 549\n",
            "Hempstead Branch: 175\n",
            "Oyster Bay Branch: 92\n",
            "Ronkonkoma Branch: 312\n",
            "Montauk Branch: 85\n",
            "Long Beach Branch: 203\n",
            "Far Rockaway Branch: 145\n",
            "West Hempstead Branch: 114\n",
            "Port Washington Branch: 0\n",
            "Port Jefferson Branch: 434\n",
            "Belmont Park: 0\n",
            "City Terminal Zone: 157\n"
          ]
        }
      ],
      "source": [
        "route_array = (count_routes(cleaned_data))\n",
        "\n",
        "print(\"Trains per route\")\n",
        "for index, elem in enumerate(route_array):\n",
        "  route_num = index+1\n",
        "\n",
        "  query = \"\"\"\n",
        "        SELECT route_long_name\n",
        "        FROM routes\n",
        "        WHERE route_id = ?\n",
        "    \"\"\"\n",
        "\n",
        "  cur.execute(query,(route_num,))\n",
        "  route_name = cur.fetchall()\n",
        "\n",
        "  print(route_name[0][0] + \": \" + str(elem))\n",
        "print (\"------------------------------------------------------\")\n",
        "delayed_route_array = delayed_trains_per_route(cleaned_data)\n",
        "delay_array = delayed_route_array.copy()\n",
        "print(\"Delayed trains per route\")\n",
        "for index, elem in enumerate(delayed_route_array):\n",
        "  route_num = index+1\n",
        "\n",
        "  query = \"\"\"\n",
        "        SELECT route_long_name\n",
        "        FROM routes\n",
        "        WHERE route_id = ?\n",
        "    \"\"\"\n",
        "\n",
        "  cur.execute(query,(route_num,))\n",
        "  route_name = cur.fetchall()\n",
        "\n",
        "  print(route_name[0][0] + \": \" + str(elem))"
      ]
    },
    {
      "cell_type": "markdown",
      "metadata": {
        "id": "KW7KQsgyUsE0"
      },
      "source": [
        "Counts Proportion of delayed trains per route"
      ]
    },
    {
      "cell_type": "code",
      "execution_count": 16,
      "metadata": {
        "colab": {
          "base_uri": "https://localhost:8080/"
        },
        "id": "ya-AjpdBUpzt",
        "outputId": "68770466-f6f7-4e6e-abec-b68196b2f57e"
      },
      "outputs": [
        {
          "output_type": "stream",
          "name": "stdout",
          "text": [
            "Babylon Branch: 0.2942122186495177\n",
            "Hempstead Branch: 0.2692307692307692\n",
            "Oyster Bay Branch: 0.45544554455445546\n",
            "Ronkonkoma Branch: 0.24375\n",
            "Montauk Branch: 0.4358974358974359\n",
            "Long Beach Branch: 0.2859154929577465\n",
            "Far Rockaway Branch: 0.2098408104196816\n",
            "West Hempstead Branch: 0.21072088724584104\n",
            "Port Washington Branch: 0\n",
            "Port Jefferson Branch: 0.3214814814814815\n",
            "Belmont Park: 0\n",
            "City Terminal Zone: 0.22237960339943344\n"
          ]
        }
      ],
      "source": [
        "for index, (elem1, elem2) in enumerate(zip(route_array,delay_array)):\n",
        "  route_num = index+1\n",
        "\n",
        "  query = \"\"\"\n",
        "        SELECT route_long_name\n",
        "        FROM routes\n",
        "        WHERE route_id = ?\n",
        "    \"\"\"\n",
        "\n",
        "  cur.execute(query,(route_num,))\n",
        "  route_name = cur.fetchall()\n",
        "  if(elem1 != 0):\n",
        "    print(route_name[0][0] + \": \" + str(elem2/elem1))\n",
        "  else:\n",
        "    print(route_name[0][0] + \": \" + str(0))\n"
      ]
    },
    {
      "cell_type": "markdown",
      "source": [
        "Plots the proportion of delays on each route. Not surprisingly, the diesel routes had higher rates of delays due to the inefficiency of diesel traction and the poor reliability of the diesel fleet. There are no delays on the Port Washington Branch and Belmont Park branches because the Port Washington Branch does not run through Jamaica, and the Belmont Park Branch is officially discontinued due to the closure of Belmont Park station."
      ],
      "metadata": {
        "id": "-xfj-zmVSyno"
      }
    },
    {
      "cell_type": "code",
      "source": [
        "import matplotlib.pyplot as plt\n",
        "\n",
        "route_names = []\n",
        "train_counts = []\n",
        "delayed_train_counts = []\n",
        "delay_percentages = []\n",
        "\n",
        "for index, elem in enumerate(route_array):\n",
        "    route_num = index + 1\n",
        "    route_name = cur.execute(\"SELECT route_long_name FROM routes WHERE route_id = ?\", (route_num,)).fetchone()[0]\n",
        "    route_names.append(route_name)\n",
        "    train_counts.append(elem)\n",
        "\n",
        "for index, elem in enumerate(delayed_route_array):\n",
        "    route_num = index + 1\n",
        "    route_name = cur.execute(\"SELECT route_long_name FROM routes WHERE route_id = ?\", (route_num,)).fetchone()[0]\n",
        "    delayed_train_counts.append(elem)\n",
        "\n",
        "\n",
        "for train_count, delayed_train_count in zip(train_counts, delayed_train_counts):\n",
        "    if train_count != 0:\n",
        "        delay_percentages.append(delayed_train_count / train_count * 100)\n",
        "    else:\n",
        "        delay_percentages.append(0)\n",
        "\n",
        "\n",
        "\n",
        "num_bars = len(route_names)\n",
        "colors = plt.cm.viridis(np.linspace(0, 1, num_bars))\n",
        "plt.figure(figsize=(10, 6))\n",
        "bars = plt.bar(route_names, delay_percentages, color=colors, alpha=0.7, label='Delay Percentage')\n",
        "plt.xlabel('Route')\n",
        "plt.ylabel('Delay Percentage (%)')\n",
        "plt.title('Percentage of Delayed Trains per Route')\n",
        "plt.xticks(rotation=90)\n",
        "plt.tight_layout()\n",
        "plt.show()\n",
        "\n"
      ],
      "metadata": {
        "colab": {
          "base_uri": "https://localhost:8080/",
          "height": 607
        },
        "id": "eeE7G0wiSLmA",
        "outputId": "aeeff011-ce8e-4375-a18c-ed4b20250e69"
      },
      "execution_count": 17,
      "outputs": [
        {
          "output_type": "display_data",
          "data": {
            "text/plain": [
              "<Figure size 1000x600 with 1 Axes>"
            ],
            "image/png": "[encoded data removed]"
          },
          "metadata": {}
        }
      ]
    },
    {
      "cell_type": "markdown",
      "source": [
        "Counts the number of Westbound (Towards NYC) and Eastbound (Towards Long Island) Trains."
      ],
      "metadata": {
        "id": "GU3HsBWPOjo9"
      }
    },
    {
      "cell_type": "code",
      "source": [
        "westbound_count = cleaned_data[cleaned_data['direction_id'].astype(int) == 1].shape[0]\n",
        "\n",
        "\n",
        "eastbound_count = cleaned_data[cleaned_data['direction_id'].astype(int) == 0].shape[0]\n",
        "\n",
        "\n",
        "print(f\"Number of trains Westbound: {westbound_count}\")\n",
        "print(f\"Number of trains Eastbound: {eastbound_count}\")"
      ],
      "metadata": {
        "colab": {
          "base_uri": "https://localhost:8080/"
        },
        "id": "Bz1MLIckOVam",
        "outputId": "d1943252-89be-40d1-b761-29a85374308b"
      },
      "execution_count": 18,
      "outputs": [
        {
          "output_type": "stream",
          "name": "stdout",
          "text": [
            "Number of trains Westbound: 3392\n",
            "Number of trains Eastbound: 4799\n"
          ]
        }
      ]
    },
    {
      "cell_type": "markdown",
      "source": [
        "Counts the number of delayed trains Westbound (Towards NYC) and Eastbound (Towards Long Island) Trains"
      ],
      "metadata": {
        "id": "1ZwBm2uQPgc0"
      }
    },
    {
      "cell_type": "code",
      "source": [
        "delayed_trains = cleaned_data[cleaned_data['delay_formatted'] > DELAY]\n",
        "westbound_delayed_count =delayed_trains[delayed_trains['direction_id'].astype(int) == 1].shape[0]\n",
        "\n",
        "\n",
        "eastbound_delayed_count = delayed_trains[delayed_trains['direction_id'].astype(int) == 0].shape[0]\n",
        "\n",
        "\n",
        "print(f\"Number of delayed trains Westbound: {westbound_delayed_count}\")\n",
        "print(f\"Number of delayed trains Eastbound: {eastbound_delayed_count}\")\n",
        "\n",
        "westbound_delayed_perc = (westbound_delayed_count/westbound_count)*100\n",
        "eastbound_delayed_perc = (eastbound_delayed_count/eastbound_count)*100\n",
        "print(  f\"Percentage of delayed trains Westbound: {westbound_delayed_perc:.2f}%\")\n",
        "print(  f\"Percentage of delayed trains Eastbound: {eastbound_delayed_perc:.2f}%\")\n",
        "\n"
      ],
      "metadata": {
        "colab": {
          "base_uri": "https://localhost:8080/"
        },
        "id": "7hvoLO4PPz2C",
        "outputId": "58e4398e-292b-4edf-97cf-d625d38cee9f"
      },
      "execution_count": 19,
      "outputs": [
        {
          "output_type": "stream",
          "name": "stdout",
          "text": [
            "Number of delayed trains Westbound: 997\n",
            "Number of delayed trains Eastbound: 1269\n",
            "Percentage of delayed trains Westbound: 29.39%\n",
            "Percentage of delayed trains Eastbound: 26.44%\n"
          ]
        }
      ]
    },
    {
      "cell_type": "markdown",
      "metadata": {
        "id": "m0NtcNym8kNP"
      },
      "source": [
        "Counts the total number of trains, and number of delayed trains, and percentage of delayed trains (all trains in the dataset). A Delayed train in this case is any train that arrives more than 1 minute after the scheduled time."
      ]
    },
    {
      "cell_type": "code",
      "execution_count": 24,
      "metadata": {
        "colab": {
          "base_uri": "https://localhost:8080/"
        },
        "id": "YAX28WQg8RU7",
        "outputId": "9e7460f5-ab0f-4695-9edc-8708bba105e0"
      },
      "outputs": [
        {
          "output_type": "stream",
          "name": "stdout",
          "text": [
            "Total number of trains: 8191\n",
            "Total number of delayed trains: 2266\n",
            "Percentage of delayed trains: 27.66%\n"
          ]
        }
      ],
      "source": [
        "\n",
        "total_trains = cleaned_data.shape[0]\n",
        "delayed_trains = cleaned_data[cleaned_data['delay_formatted'] > DELAY].shape[0]\n",
        "percentage_delayed_trains = (delayed_trains / total_trains) * 100\n",
        "print(f\"Total number of trains: {total_trains}\")\n",
        "print(f\"Total number of delayed trains: {delayed_trains}\")\n",
        "print(f\"Percentage of delayed trains: {percentage_delayed_trains:.2f}%\")"
      ]
    },
    {
      "cell_type": "markdown",
      "metadata": {
        "id": "-uSOXbg7T0Sa"
      },
      "source": [
        "Counts the number of trains per hour"
      ]
    },
    {
      "cell_type": "code",
      "execution_count": 59,
      "metadata": {
        "colab": {
          "base_uri": "https://localhost:8080/"
        },
        "id": "m6OYcLg1PG4E",
        "outputId": "d04d7ee3-153a-418d-9bd7-bd958bb0f6b9"
      },
      "outputs": [
        {
          "output_type": "stream",
          "name": "stdout",
          "text": [
            "Delayed trains per hour + percentage\n",
            "   hour  delayed_trains_count  total_trains_count  percentage_delayed\n",
            "0    00                   133                 553           24.050633\n",
            "1    01                    91                 434           20.967742\n",
            "2    02                    48                 301           15.946844\n",
            "3    03                    36                 156           23.076923\n",
            "4    04                     5                  77            6.493506\n",
            "5    05                     3                  24           12.500000\n",
            "6    06                     6                  16           37.500000\n",
            "7    07                     1                  11            9.090909\n",
            "8    08                     1                   6           16.666667\n",
            "9    09                     1                   7           14.285714\n",
            "10   10                     4                  34           11.764706\n",
            "11   11                    38                  73           52.054795\n",
            "12   12                    29                  94           30.851064\n",
            "13   13                    54                 169           31.952663\n",
            "14   14                    87                 296           29.391892\n",
            "15   15                   138                 370           37.297297\n",
            "16   16                   113                 417           27.098321\n",
            "17   17                   130                 458           28.384279\n",
            "18   18                   140                 533           26.266417\n",
            "19   19                   129                 606           21.287129\n",
            "20   20                   207                 790           26.202532\n",
            "21   21                   320                 951           33.648791\n",
            "22   22                   347                 993           34.944612\n",
            "23   23                   205                 822           24.939173\n"
          ]
        }
      ],
      "source": [
        "delayed_trains_hour = delayed_trains_per_hour(cleaned_data)\n",
        "print(\"Delayed trains per hour + percentage\")\n",
        "print(delayed_trains_hour)\n",
        "\n"
      ]
    },
    {
      "cell_type": "code",
      "execution_count": 62,
      "metadata": {
        "colab": {
          "base_uri": "https://localhost:8080/",
          "height": 449
        },
        "id": "4e2CDEvpTpZu",
        "outputId": "7a4b1afd-0420-4d81-c1d9-a5ea6a1f8725"
      },
      "outputs": [
        {
          "output_type": "display_data",
          "data": {
            "text/plain": [
              "<Figure size 640x480 with 1 Axes>"
            ],
            "image/png": "[encoded data removed]"
          },
          "metadata": {}
        }
      ],
      "source": [
        "\n",
        "#delayed_trains_hour['delayed_trains_count'].plot(kind='line', figsize=(8, 4), title='Delayed Trains Count')\n",
        "plt.plot(delayed_trains_hour['hour'], delayed_trains_hour['percentage_delayed'], marker='o', color='b', label='Delayed Trains Percentage')\n",
        "plt.xticks(range(0, 24))\n",
        "plt.xlabel('Time (hour)')\n",
        "plt.ylabel('Delayed Trains Percentage')\n",
        "plt.show()"
      ]
    },
    {
      "cell_type": "markdown",
      "metadata": {
        "id": "ETVsp4UpUFDp"
      },
      "source": [
        "Categorize the severity of delays"
      ]
    },
    {
      "cell_type": "markdown",
      "metadata": {
        "id": "9ai8j2pEZMoJ"
      },
      "source": [
        "In general, most delays that are not exceptional delays are usually in the 0-2 min timeframe"
      ]
    },
    {
      "cell_type": "code",
      "execution_count": 25,
      "metadata": {
        "colab": {
          "base_uri": "https://localhost:8080/"
        },
        "id": "rYqqdYwFUFeb",
        "outputId": "5c7875a3-9c3e-481d-ae63-ca799fcf2bfe"
      },
      "outputs": [
        {
          "output_type": "stream",
          "name": "stdout",
          "text": [
            "category\n",
            "> -10 min            22\n",
            "(-10 to -5 min]     250\n",
            "(-5 to -2 min]     2345\n",
            "(-2-0 min]         1733\n",
            "(0-2 min]          2635\n",
            "(2-5 min]          1024\n",
            "(5-10 min]          152\n",
            ">10+ min             30\n",
            "Name: count, dtype: int64\n"
          ]
        }
      ],
      "source": [
        "#MUST run clean data with option = -1 first\n",
        "delay_category,category_counts = category_of_delays(cleaned_data)\n",
        "\n",
        "print(category_counts)\n",
        "\n",
        "#print(delay_category)"
      ]
    },
    {
      "cell_type": "code",
      "execution_count": 26,
      "metadata": {
        "colab": {
          "base_uri": "https://localhost:8080/",
          "height": 714
        },
        "id": "_gRj4muHYqlu",
        "outputId": "aa2eafcf-303d-46b3-99a9-5cdcc5f17318"
      },
      "outputs": [
        {
          "output_type": "stream",
          "name": "stderr",
          "text": [
            "<ipython-input-26-66448d612cd8>:3: FutureWarning: \n",
            "\n",
            "Passing `palette` without assigning `hue` is deprecated and will be removed in v0.14.0. Assign the `x` variable to `hue` and set `legend=False` for the same effect.\n",
            "\n",
            "  seaborn.barplot(x=category_counts.index, y=category_counts.values, palette='viridis')\n"
          ]
        },
        {
          "output_type": "display_data",
          "data": {
            "text/plain": [
              "<Figure size 1000x600 with 1 Axes>"
            ],
            "image/png": "[encoded data removed]"
          },
          "metadata": {}
        }
      ],
      "source": [
        "import seaborn\n",
        "plt.figure(figsize=(10,6))\n",
        "seaborn.barplot(x=category_counts.index, y=category_counts.values, palette='viridis')\n",
        "\n",
        "\n",
        "plt.title(\"Train Delays Categorized by Time (Minutes)\", fontsize=16)\n",
        "plt.xlabel(\"Time period\", fontsize=14)\n",
        "plt.ylabel(\"Number of Delays\", fontsize=14)\n",
        "plt.xticks(rotation=45, ha=\"right\")\n",
        "plt.tight_layout()\n",
        "\n",
        "# Show the plot\n",
        "plt.show()"
      ]
    },
    {
      "cell_type": "markdown",
      "metadata": {
        "id": "DvPhekxqjSa-"
      },
      "source": []
    },
    {
      "cell_type": "code",
      "execution_count": 28,
      "metadata": {
        "id": "WFNRpKsS9JNZ"
      },
      "outputs": [],
      "source": [
        "cat_delays = category_of_delays(cleaned_data)\n",
        "\n",
        "#print(cat_delays)"
      ]
    },
    {
      "cell_type": "markdown",
      "metadata": {
        "id": "NzEeUU_vD38O"
      },
      "source": [
        "Prints out the number of Peak, AM Peak, PM Peak, Off Peak, and Unknown (either due to missing gtfs update data or due to non-revenue services) trains in the dataset"
      ]
    },
    {
      "cell_type": "code",
      "execution_count": 29,
      "metadata": {
        "colab": {
          "base_uri": "https://localhost:8080/"
        },
        "id": "CiVtkWwGjSJe",
        "outputId": "eb5a6462-163f-4261-82cc-bffdfceeb3e5"
      },
      "outputs": [
        {
          "output_type": "stream",
          "name": "stdout",
          "text": [
            "AM Peak count: 157\n",
            "PM Peak count: 1645\n",
            "Peak count: 1802\n",
            "Off Peak count: 4413\n",
            "Unknown count: 1976\n",
            "Total count: 8191\n"
          ]
        }
      ],
      "source": [
        "mod_info_df, res = count_delayed_trains_info(cleaned_data)"
      ]
    },
    {
      "cell_type": "code",
      "execution_count": 30,
      "metadata": {
        "colab": {
          "base_uri": "https://localhost:8080/"
        },
        "id": "SzMd4jwv8wxB",
        "outputId": "0e4ec6f9-60c7-4a20-aea4-1b3fc31c67a4"
      },
      "outputs": [
        {
          "output_type": "stream",
          "name": "stdout",
          "text": [
            "Total delayed trains: 2266\n",
            "Average delay time (minutes): 2.66\n",
            "Number of Late trains: \n",
            "AM Peak count: 57\n",
            "PM Peak count: 518\n",
            "Peak count: 575\n",
            "Off Peak count: 1261\n",
            "Unknown count: 430\n",
            "Total count: 8191\n",
            "\n",
            "Percentage of trains Late: \n",
            "AM Peak percentage: 36.31%\n",
            "PM Peak percentage: 31.49%\n",
            "Peak percentage: 31.91%\n",
            "Off Peak percentage: 28.57%\n",
            "Unknown percentage: 21.76%\n"
          ]
        }
      ],
      "source": [
        "count_delayed_trains_info_n(mod_info_df, res)"
      ]
    },
    {
      "cell_type": "markdown",
      "metadata": {
        "id": "LmuVAPvlb1fD"
      },
      "source": [
        "Gets the number of transfers possible in the data. The number of transfers is quite low mainly due to missing gtfs data."
      ]
    },
    {
      "cell_type": "code",
      "execution_count": 31,
      "metadata": {
        "colab": {
          "base_uri": "https://localhost:8080/"
        },
        "id": "rT-IhUfpboCU",
        "outputId": "f46bc958-9a85-4ac9-f090-2c97a9598d18"
      },
      "outputs": [
        {
          "output_type": "stream",
          "name": "stdout",
          "text": [
            "Total transfers: 1314\n"
          ]
        }
      ],
      "source": [
        "station_id = 102 #JAM\n",
        "transfer_num = 0\n",
        "transfers_tot = []\n",
        "\n",
        "for row in cleaned_data.itertuples():\n",
        "    trip_id = row.trip_id\n",
        "    local_arrival_time = row.local_arrival_time\n",
        "    transfers = get_transfers_trip(cur, station_id, trip_id)\n",
        "    transfer_num += len(transfers)\n",
        "    #print(len(transfers))\n",
        "    transfers_tot += transfers\n",
        "\n",
        "print(f\"Total transfers: {transfer_num}\")\n",
        "#print(transfers)"
      ]
    },
    {
      "cell_type": "markdown",
      "metadata": {
        "id": "XjDJXrwjRBdR"
      },
      "source": [
        "Gets number of transfers missed due to very late trains. This is very theoretical, as transfer trains can also be late(!). The calculation is that if a train arrives later than the scheduled departure time of the transfer train or less than 3 minutes before the transfer train is scheduled to depart (as some transfers require going up and over an overpass to another platform), then the transfer is missed."
      ]
    },
    {
      "cell_type": "code",
      "execution_count": 32,
      "metadata": {
        "colab": {
          "base_uri": "https://localhost:8080/"
        },
        "id": "5Js7tfyrenqZ",
        "outputId": "90337090-fa47-44a6-afef-51a8e801c265"
      },
      "outputs": [
        {
          "output_type": "stream",
          "name": "stdout",
          "text": [
            "577\n"
          ]
        }
      ],
      "source": [
        "missed_num = analyze_transfers_trip(cur,station_id, cleaned_data)\n",
        "print(missed_num)"
      ]
    },
    {
      "cell_type": "markdown",
      "source": [
        "Percentage of theoretical missed transfers."
      ],
      "metadata": {
        "id": "wV2K9NRxHigf"
      }
    },
    {
      "cell_type": "code",
      "source": [
        "missed_num/transfer_num * 100"
      ],
      "metadata": {
        "colab": {
          "base_uri": "https://localhost:8080/"
        },
        "id": "E4fdrFstFtk1",
        "outputId": "fb775807-e3f2-4c4e-9b3d-d00feabb5636"
      },
      "execution_count": 33,
      "outputs": [
        {
          "output_type": "execute_result",
          "data": {
            "text/plain": [
              "43.9117199391172"
            ]
          },
          "metadata": {},
          "execution_count": 33
        }
      ]
    },
    {
      "cell_type": "code",
      "source": [
        "duplicates = cleaned_data[cleaned_data.duplicated(subset='trip_id', keep=False)]\n",
        "duplicate_counts = duplicates.groupby('trip_id').size().reset_index(name='duplicate_count')\n",
        "duplicate_counts_sorted = duplicate_counts.sort_values(by='duplicate_count', ascending=False)\n",
        "print(duplicate_counts_sorted)"
      ],
      "metadata": {
        "id": "odBm3szuIWxc",
        "colab": {
          "base_uri": "https://localhost:8080/"
        },
        "outputId": "ee4186ce-12c0-42ed-d083-67b4b753ff96"
      },
      "execution_count": 34,
      "outputs": [
        {
          "output_type": "stream",
          "name": "stdout",
          "text": [
            "              trip_id  duplicate_count\n",
            "200      GO301_24_178               18\n",
            "435       GO301_24_44               18\n",
            "5       GO301_24_1068               18\n",
            "354      GO301_24_276               18\n",
            "343      GO301_24_274               17\n",
            "...               ...              ...\n",
            "717     GO301_24_7616                2\n",
            "715     GO301_24_7615                2\n",
            "710   GO301_24_7570_3                2\n",
            "708   GO301_24_7569_5                2\n",
            "1220    GO303_24_8976                2\n",
            "\n",
            "[1221 rows x 2 columns]\n"
          ]
        }
      ]
    },
    {
      "cell_type": "markdown",
      "source": [
        "Predict the amount of lateness that each train could potentially have, must have more than 8 duplicates in the data to predict successfully."
      ],
      "metadata": {
        "id": "Lq7YXBAn1DzN"
      }
    },
    {
      "cell_type": "code",
      "source": [
        "import warnings\n",
        "from sklearn.model_selection import train_test_split\n",
        "from sklearn.linear_model import LinearRegression\n",
        "from sklearn.metrics import mean_squared_error\n",
        "\n",
        "# Suppress the warning about feature names\n",
        "warnings.filterwarnings(\"ignore\", message=\"X does not have valid feature names\")\n",
        "\n",
        "cleaned_data_sorted = cleaned_data.sort_values(by='trip_id')\n",
        "\n",
        "cleaned_data_sorted['delay_formatted'] = pd.to_numeric(cleaned_data_sorted['delay_formatted'], errors='coerce')\n",
        "filtered_data_sorted = cleaned_data_sorted.dropna(subset=['delay_formatted'])\n",
        "\n",
        "features = ['schedule_relationship', 'route_id', 'direction_id']\n",
        "target = 'delay_formatted'\n",
        "\n",
        "trip_id_counts = filtered_data_sorted['trip_id'].value_counts()\n",
        "valid_trip_ids = trip_id_counts[trip_id_counts > 8].index\n",
        "\n",
        "for trip_id in valid_trip_ids:\n",
        "    trip_data = filtered_data_sorted[filtered_data_sorted['trip_id'] == trip_id]\n",
        "\n",
        "    X = trip_data[features]\n",
        "    y = trip_data[target]\n",
        "\n",
        "    X_train, X_test, y_train, y_test = train_test_split(X, y, test_size=0.2, random_state=42)\n",
        "\n",
        "    model = LinearRegression()\n",
        "    model.fit(X_train, y_train)\n",
        "\n",
        "    y_pred = model.predict(X_test)\n",
        "\n",
        "    mse = mean_squared_error(y_test, y_pred)\n",
        "    #print(f'Mean Squared Error for trip_id {trip_id}: {mse}')\n",
        "\n",
        "    predicted_delays = set()  # Set to track unique predictions\n",
        "    for index, row in X_test.iterrows():\n",
        "        predicted_delay = model.predict(row[features].values.reshape(1, -1))\n",
        "        predicted_delay_in_minutes = predicted_delay[0] / 60\n",
        "\n",
        "        # Only print if it's a new predicted delay\n",
        "        if predicted_delay_in_minutes not in predicted_delays:\n",
        "            predicted_delays.add(predicted_delay_in_minutes)\n",
        "            print(f'Trip {trip_id} predicted delay: {predicted_delay_in_minutes} minutes')\n"
      ],
      "metadata": {
        "colab": {
          "base_uri": "https://localhost:8080/"
        },
        "id": "DdN7vFTd2q26",
        "outputId": "4953f28b-d79a-44ae-c1f1-ab21fead1c02"
      },
      "execution_count": 35,
      "outputs": [
        {
          "output_type": "stream",
          "name": "stdout",
          "text": [
            "Trip GO301_24_1068 predicted delay: 0.6059523809523809 minutes\n",
            "Trip GO301_24_44 predicted delay: -0.6297619047619047 minutes\n",
            "Trip GO301_24_178 predicted delay: -1.9333333333333333 minutes\n",
            "Trip GO301_24_276 predicted delay: 0.6761904761904761 minutes\n",
            "Trip GO301_24_869 predicted delay: -0.4217948717948718 minutes\n",
            "Trip GO301_24_274 predicted delay: 0.0038461538461538464 minutes\n",
            "Trip GO301_24_179 predicted delay: -0.3875 minutes\n",
            "Trip GO301_24_1574 predicted delay: -3.0208333333333335 minutes\n",
            "Trip GO301_24_566 predicted delay: 1.1222222222222222 minutes\n",
            "Trip GO301_24_181 predicted delay: -1.425 minutes\n",
            "Trip GO301_24_2768 predicted delay: 2.0791666666666666 minutes\n",
            "Trip GO301_24_267 predicted delay: -0.3541666666666667 minutes\n",
            "Trip GO301_24_568 predicted delay: 2.3847222222222224 minutes\n",
            "Trip GO301_24_175 predicted delay: 0.7708333333333334 minutes\n",
            "Trip GO301_24_772 predicted delay: 1.9791666666666667 minutes\n",
            "Trip GO301_24_1570 predicted delay: 0.45416666666666666 minutes\n",
            "Trip GO301_24_174 predicted delay: 1.8263888888888888 minutes\n",
            "Trip GO301_24_1264 predicted delay: 1.0416666666666667 minutes\n",
            "Trip GO301_24_882 predicted delay: -0.030555555555555555 minutes\n",
            "Trip GO301_24_272 predicted delay: 1.6361111111111113 minutes\n",
            "Trip GO301_24_780 predicted delay: -0.6291666666666667 minutes\n",
            "Trip GO301_24_1962 predicted delay: 0.23472222222222222 minutes\n",
            "Trip GO301_24_766 predicted delay: 2.5055555555555555 minutes\n",
            "Trip GO301_24_878_1 predicted delay: -1.1222222222222222 minutes\n",
            "Trip GO301_24_1563 predicted delay: 4.559722222222222 minutes\n",
            "Trip GO301_24_1562 predicted delay: 0.4597222222222222 minutes\n",
            "Trip GO301_24_180 predicted delay: 0.8916666666666667 minutes\n",
            "Trip GO301_24_1969 predicted delay: -2.176388888888889 minutes\n",
            "Trip GO301_24_1968 predicted delay: -0.7402777777777777 minutes\n",
            "Trip GO301_24_182 predicted delay: 0.8694444444444444 minutes\n",
            "Trip GO301_24_1964 predicted delay: -2.8333333333333335 minutes\n",
            "Trip GO301_24_298 predicted delay: -0.8111111111111111 minutes\n",
            "Trip GO301_24_1668 predicted delay: -2.273611111111111 minutes\n",
            "Trip GO301_24_1670 predicted delay: -4.270833333333333 minutes\n",
            "Trip GO301_24_1767 predicted delay: 0.041666666666666664 minutes\n",
            "Trip GO301_24_774 predicted delay: -1.2083333333333333 minutes\n",
            "Trip GO301_24_176 predicted delay: -0.49444444444444446 minutes\n",
            "Trip GO301_24_1762 predicted delay: 0.638888888888889 minutes\n",
            "Trip GO301_24_80 predicted delay: -2.701388888888889 minutes\n",
            "Trip GO301_24_2778 predicted delay: 1.011111111111111 minutes\n",
            "Trip GO301_24_664 predicted delay: -0.06944444444444445 minutes\n",
            "Trip GO301_24_1060 predicted delay: 1.975 minutes\n",
            "Trip GO301_24_1062 predicted delay: -2.594444444444444 minutes\n",
            "Trip GO301_24_1758 predicted delay: -2.3833333333333333 minutes\n",
            "Trip GO301_24_865 predicted delay: -0.8930555555555556 minutes\n",
            "Trip GO301_24_662 predicted delay: -7.159722222222222 minutes\n",
            "Trip GO301_24_1766 predicted delay: -1.9402777777777778 minutes\n",
            "Trip GO301_24_265 predicted delay: 1.3319444444444446 minutes\n",
            "Trip GO301_24_876 predicted delay: 0.14444444444444443 minutes\n",
            "Trip GO301_24_1178 predicted delay: 0.8569444444444444 minutes\n",
            "Trip GO301_24_1768 predicted delay: 0.5472222222222223 minutes\n",
            "Trip GO301_24_2070 predicted delay: 0.33888888888888885 minutes\n",
            "Trip GO301_24_2068 predicted delay: -0.20416666666666666 minutes\n",
            "Trip GO301_24_868 predicted delay: 0.7375 minutes\n",
            "Trip GO301_24_1161 predicted delay: 1.3361111111111112 minutes\n",
            "Trip GO301_24_284 predicted delay: -0.15416666666666667 minutes\n",
            "Trip GO301_24_1166 predicted delay: 1.9444444444444444 minutes\n",
            "Trip GO301_24_185 predicted delay: -1.7318181818181817 minutes\n",
            "Trip GO301_24_172 predicted delay: 0.9393939393939394 minutes\n",
            "Trip GO301_24_763 predicted delay: 2.209090909090909 minutes\n",
            "Trip GO301_24_2968 predicted delay: -1.4257575757575758 minutes\n",
            "Trip GO301_24_2776 predicted delay: 0.27878787878787875 minutes\n",
            "Trip GO301_24_762 predicted delay: 0.4 minutes\n",
            "Trip GO301_24_2784 predicted delay: -3.631818181818182 minutes\n",
            "Trip GO301_24_173_1 predicted delay: 3.1712121212121214 minutes\n",
            "Trip GO301_24_184 predicted delay: -1.128787878787879 minutes\n",
            "Trip GO301_24_873 predicted delay: -3.1984848484848483 minutes\n",
            "Trip GO301_24_2970 predicted delay: 0.09545454545454546 minutes\n",
            "Trip GO301_24_183 predicted delay: -2.3833333333333333 minutes\n",
            "Trip GO301_24_1564 predicted delay: 0.8 minutes\n",
            "Trip GO301_24_1568 predicted delay: 0.5590909090909091 minutes\n",
            "Trip GO301_24_2773 predicted delay: -1.793939393939394 minutes\n",
            "Trip GO301_24_761 predicted delay: 1.2333333333333334 minutes\n",
            "Trip GO301_24_760 predicted delay: -2.4636363636363634 minutes\n",
            "Trip GO301_24_565 predicted delay: -3.977272727272727 minutes\n",
            "Trip GO301_24_870 predicted delay: 0.45454545454545453 minutes\n",
            "Trip GO301_24_177 predicted delay: -0.9181818181818182 minutes\n",
            "Trip GO301_24_866 predicted delay: -1.7272727272727273 minutes\n",
            "Trip GO301_24_1764 predicted delay: -0.31212121212121213 minutes\n",
            "Trip GO301_24_863 predicted delay: -0.4106060606060606 minutes\n",
            "Trip GO301_24_45 predicted delay: 1.3287878787878789 minutes\n",
            "Trip GO301_24_862 predicted delay: -1.5818181818181818 minutes\n",
            "Trip GO301_24_2774 predicted delay: -3.459090909090909 minutes\n",
            "Trip GO301_24_1761 predicted delay: 1.0909090909090908 minutes\n",
            "Trip GO301_24_2772 predicted delay: -1.596969696969697 minutes\n",
            "Trip GO301_24_1154 predicted delay: 0.9484848484848485 minutes\n",
            "Trip GO301_24_2948 predicted delay: 0.2515151515151515 minutes\n",
            "Trip GO301_24_2771 predicted delay: -3.707575757575758 minutes\n",
            "Trip GO301_24_268 predicted delay: 1.8272727272727274 minutes\n",
            "Trip GO301_24_1258 predicted delay: -4.074242424242424 minutes\n",
            "Trip GO301_24_1252 predicted delay: -2.368181818181818 minutes\n",
            "Trip GO301_24_2057 predicted delay: 1.35 minutes\n",
            "Trip GO301_24_2063 predicted delay: -1.7651515151515151 minutes\n",
            "Trip GO301_24_2066 predicted delay: 0.7 minutes\n",
            "Trip GO301_24_2067 predicted delay: -2.812121212121212 minutes\n",
            "Trip GO301_24_1172_1 predicted delay: 3.056060606060606 minutes\n",
            "Trip GO301_24_1162 predicted delay: 0.45454545454545453 minutes\n",
            "Trip GO301_24_169 predicted delay: -0.23787878787878788 minutes\n",
            "Trip GO301_24_768 predicted delay: 0.9984848484848484 minutes\n",
            "Trip GO301_24_658 predicted delay: -1.0606060606060606 minutes\n",
            "Trip GO301_24_263 predicted delay: 3.6333333333333333 minutes\n",
            "Trip GO301_24_660 predicted delay: -1.7378787878787878 minutes\n",
            "Trip GO301_24_1072 predicted delay: 2.0424242424242425 minutes\n",
            "Trip GO301_24_1064 predicted delay: -0.9439393939393939 minutes\n",
            "Trip GO301_24_1056 predicted delay: 1.1742424242424243 minutes\n",
            "Trip GO301_24_2946 predicted delay: -2.01969696969697 minutes\n",
            "Trip GO301_24_2076 predicted delay: -1.3424242424242425 minutes\n",
            "Trip GO301_24_2940 predicted delay: -0.9196969696969697 minutes\n",
            "Trip GO301_24_168 predicted delay: 0.0393939393939394 minutes\n",
            "Trip GO301_24_2936 predicted delay: -1.2030303030303031 minutes\n",
            "Trip GO301_24_770 predicted delay: 0.6196969696969696 minutes\n",
            "Trip GO301_24_270 predicted delay: -1.7515151515151515 minutes\n",
            "Trip GO301_24_778 predicted delay: 0.13484848484848486 minutes\n",
            "Trip GO301_24_698 predicted delay: -1.6863636363636365 minutes\n",
            "Trip GO301_24_2766 predicted delay: -2.392424242424242 minutes\n",
            "Trip GO301_24_2761 predicted delay: -1.7393939393939393 minutes\n",
            "Trip GO301_24_2960 predicted delay: -1.834848484848485 minutes\n",
            "Trip GO301_24_170 predicted delay: -0.9575757575757575 minutes\n",
            "Trip GO301_24_2958 predicted delay: -0.7727272727272728 minutes\n",
            "Trip GO301_24_1963 predicted delay: 0.13939393939393938 minutes\n",
            "Trip GO301_24_1966 predicted delay: -0.9636363636363636 minutes\n",
            "Trip GO301_24_2763 predicted delay: -2.292424242424242 minutes\n",
            "Trip GO301_24_2769 predicted delay: -1.884848484848485 minutes\n",
            "Trip GO301_24_1664 predicted delay: 1.8333333333333333 minutes\n",
            "Trip GO301_24_1972 predicted delay: -0.30909090909090914 minutes\n",
            "Trip GO301_24_2770 predicted delay: 1.9318181818181819 minutes\n",
            "Trip GO301_24_1660 predicted delay: 0.41515151515151516 minutes\n",
            "Trip GO301_24_2950 predicted delay: 0.16515151515151513 minutes\n",
            "Trip GO301_24_880 predicted delay: -2.4651515151515153 minutes\n",
            "Trip GO301_24_782 predicted delay: -3.1772727272727272 minutes\n",
            "Trip GO301_24_2765 predicted delay: -1.0272727272727271 minutes\n",
            "Trip GO301_24_166 predicted delay: -1.2133333333333334 minutes\n",
            "Trip GO301_24_1672 predicted delay: -1.2033333333333334 minutes\n",
            "Trip GO301_24_1658 predicted delay: -1.1133333333333333 minutes\n",
            "Trip GO301_24_2922 predicted delay: -1.9183333333333332 minutes\n",
            "Trip GO301_24_1657 predicted delay: 2.8066666666666666 minutes\n",
            "Trip GO301_24_1760 predicted delay: -2.6483333333333334 minutes\n",
            "Trip GO301_24_758 predicted delay: 0.6583333333333333 minutes\n",
            "Trip GO301_24_286 predicted delay: -3.915 minutes\n",
            "Trip GO301_24_757 predicted delay: -1.4633333333333334 minutes\n",
            "Trip GO301_24_1667 predicted delay: 1.175 minutes\n",
            "Trip GO301_24_164 predicted delay: 0.43166666666666664 minutes\n",
            "Trip GO301_24_2924 predicted delay: 0.33666666666666667 minutes\n",
            "Trip GO301_24_171 predicted delay: -0.8966666666666666 minutes\n",
            "Trip GO301_24_2928 predicted delay: -0.44333333333333336 minutes\n",
            "Trip GO301_24_861 predicted delay: 0.8883333333333333 minutes\n",
            "Trip GO301_24_186 predicted delay: -1.3233333333333335 minutes\n",
            "Trip GO301_24_668 predicted delay: 0.36833333333333335 minutes\n",
            "Trip GO301_24_266 predicted delay: -1.115 minutes\n",
            "Trip GO301_24_657 predicted delay: 1.32 minutes\n",
            "Trip GO301_24_2065 predicted delay: -1.59 minutes\n",
            "Trip GO301_24_2064 predicted delay: 0.91 minutes\n",
            "Trip GO301_24_1992 predicted delay: -0.058333333333333334 minutes\n",
            "Trip GO301_24_1960 predicted delay: -0.5433333333333333 minutes\n",
            "Trip GO301_24_2762 predicted delay: -0.515 minutes\n",
            "Trip GO301_24_6156 predicted delay: 0.4766666666666667 minutes\n",
            "Trip GO301_24_2926 predicted delay: 0.6683333333333333 minutes\n",
            "Trip GO301_24_187 predicted delay: -0.3 minutes\n",
            "Trip GO301_24_2780 predicted delay: 1.7783333333333333 minutes\n",
            "Trip GO301_24_1558 predicted delay: 1.8366666666666667 minutes\n",
            "Trip GO301_24_874 predicted delay: -0.605 minutes\n",
            "Trip GO301_24_864 predicted delay: -2.55 minutes\n",
            "Trip GO301_24_1569 predicted delay: -2.316666666666667 minutes\n",
            "Trip GO301_24_1576 predicted delay: -0.38166666666666665 minutes\n",
            "Trip GO301_24_558 predicted delay: -1.9549999999999998 minutes\n",
            "Trip GO301_24_1770 predicted delay: -2.7366666666666664 minutes\n",
            "Trip GO301_24_8054 predicted delay: 1.2333333333333334 minutes\n",
            "Trip GO301_24_771 predicted delay: 0.8444444444444444 minutes\n",
            "Trip GO301_24_257 predicted delay: -2.0407407407407407 minutes\n",
            "Trip GO301_24_261 predicted delay: 3.801851851851852 minutes\n",
            "Trip GO301_24_2078 predicted delay: -1.8444444444444446 minutes\n",
            "Trip GO301_24_262 predicted delay: -3.5740740740740744 minutes\n",
            "Trip GO301_24_1756 predicted delay: 0.2833333333333333 minutes\n",
            "Trip GO301_24_1769 predicted delay: -0.812962962962963 minutes\n",
            "Trip GO301_24_17 predicted delay: 0.21666666666666667 minutes\n",
            "Trip GO301_24_1973 predicted delay: -0.20185185185185184 minutes\n",
            "Trip GO301_24_767 predicted delay: 0.3462962962962963 minutes\n",
            "Trip GO301_24_188 predicted delay: -1.7703703703703704 minutes\n",
            "Trip GO301_24_7952 predicted delay: 1.0888888888888888 minutes\n",
            "Trip GO301_24_1954 predicted delay: -1.3425925925925926 minutes\n",
            "Trip GO301_24_2760 predicted delay: 1.1277777777777778 minutes\n",
            "Trip GO301_24_288 predicted delay: -3.3574074074074076 minutes\n",
            "Trip GO301_24_1759 predicted delay: -2.2962962962962963 minutes\n",
            "Trip GO301_24_2786 predicted delay: -1.6388888888888888 minutes\n",
            "Trip GO301_24_2920 predicted delay: -0.7092592592592593 minutes\n",
            "Trip GO301_24_2918 predicted delay: 1.422222222222222 minutes\n",
            "Trip GO301_24_2916 predicted delay: 2.0796296296296295 minutes\n",
            "Trip GO301_24_189 predicted delay: -1.0055555555555555 minutes\n",
            "Trip GO301_24_167 predicted delay: -2.8777777777777778 minutes\n",
            "Trip GO301_24_2938 predicted delay: -0.3722222222222222 minutes\n",
            "Trip GO301_24_162 predicted delay: 0.2388888888888889 minutes\n",
            "Trip GO301_24_859 predicted delay: -1.472222222222222 minutes\n",
            "Trip GO301_24_1580 predicted delay: -0.5537037037037037 minutes\n",
            "Trip GO301_24_569 predicted delay: 2.3685185185185187 minutes\n",
            "Trip GO301_24_875 predicted delay: -4.487037037037037 minutes\n",
            "Trip GO301_24_1559 predicted delay: 0.6685185185185186 minutes\n",
            "Trip GO301_24_2978 predicted delay: -0.1685185185185185 minutes\n",
            "Trip GO301_24_2976 predicted delay: -1.4333333333333333 minutes\n",
            "Trip GO301_24_2964 predicted delay: -1.05 minutes\n",
            "Trip GO301_24_2962 predicted delay: -1.8407407407407408 minutes\n",
            "Trip GO301_24_160 predicted delay: -2.3555555555555556 minutes\n",
            "Trip GO301_24_1150 predicted delay: -3.444444444444444 minutes\n",
            "Trip GO301_24_1654 predicted delay: -1.0037037037037038 minutes\n",
            "Trip GO301_24_886 predicted delay: 1.5592592592592593 minutes\n",
            "Trip GO301_24_1656 predicted delay: 0.6481481481481481 minutes\n",
            "Trip GO301_24_1555 predicted delay: -0.7125 minutes\n",
            "Trip GO301_24_7752 predicted delay: 2.254166666666667 minutes\n",
            "Trip GO301_24_6753 predicted delay: 1.1375 minutes\n",
            "Trip GO301_24_1565 predicted delay: 1.3583333333333334 minutes\n",
            "Trip GO301_24_2060 predicted delay: -0.6770833333333334 minutes\n",
            "Trip GO301_24_2056 predicted delay: -2.80625 minutes\n",
            "Trip GO301_24_1557 predicted delay: -0.13541666666666666 minutes\n",
            "Trip GO301_24_784 predicted delay: 0.48125 minutes\n",
            "Trip GO301_24_6157 predicted delay: 2.775 minutes\n",
            "Trip GO301_24_6252 predicted delay: 0.20416666666666666 minutes\n",
            "Trip GO301_24_1958 predicted delay: -0.22291666666666668 minutes\n",
            "Trip GO301_24_1959 predicted delay: 0.7645833333333333 minutes\n",
            "Trip GO301_24_656 predicted delay: -1.6333333333333333 minutes\n",
            "Trip GO301_24_1965 predicted delay: 3.2041666666666666 minutes\n",
            "Trip GO301_24_1974 predicted delay: 1.4229166666666666 minutes\n",
            "Trip GO301_24_2754 predicted delay: -0.6208333333333333 minutes\n",
            "Trip GO301_24_6160 predicted delay: -0.07083333333333333 minutes\n",
            "Trip GO301_24_6752 predicted delay: -0.8354166666666667 minutes\n",
            "Trip GO301_24_855 predicted delay: 2.2125 minutes\n",
            "Trip GO301_24_860 predicted delay: -3.45 minutes\n",
            "Trip GO301_24_1655 predicted delay: 0.49583333333333335 minutes\n",
            "Trip GO301_24_756 predicted delay: -4.7625 minutes\n",
            "Trip GO301_24_163 predicted delay: -1.4791666666666667 minutes\n",
            "Trip GO301_24_2071 predicted delay: -1.6395833333333334 minutes\n",
            "Trip GO301_24_1666 predicted delay: -3.685416666666667 minutes\n",
            "Trip GO301_24_2775 predicted delay: -1.5375 minutes\n",
            "Trip GO301_24_6154 predicted delay: 2.25 minutes\n",
            "Trip GO301_24_6155 predicted delay: -2.3520833333333333 minutes\n",
            "Trip GO301_24_2767 predicted delay: 3.058333333333333 minutes\n",
            "Trip GO301_24_8888 predicted delay: -0.60625 minutes\n",
            "Trip GO301_24_769 predicted delay: 2.51875 minutes\n",
            "Trip GO301_24_1671 predicted delay: -1.3666666666666667 minutes\n",
            "Trip GO301_24_1665 predicted delay: -2.5479166666666666 minutes\n",
            "Trip GO301_24_2758 predicted delay: -6.966666666666667 minutes\n",
            "Trip GO301_24_1955 predicted delay: 2.20625 minutes\n",
            "Trip GO301_24_6253 predicted delay: -0.18125 minutes\n",
            "Trip GO301_24_258 predicted delay: -2.35 minutes\n",
            "Trip GO301_24_1956 predicted delay: -1.8541666666666667 minutes\n",
            "Trip GO301_24_165 predicted delay: 0.9375 minutes\n",
            "Trip GO301_24_7954 predicted delay: 1.85625 minutes\n",
            "Trip GO301_24_2906 predicted delay: 0.31875 minutes\n",
            "Trip GO301_24_1663 predicted delay: 3.5 minutes\n",
            "Trip GO301_24_867 predicted delay: 3.1666666666666665 minutes\n",
            "Trip GO301_24_2914 predicted delay: -0.1875 minutes\n",
            "Trip GO301_24_1661 predicted delay: 2.30625 minutes\n",
            "Trip GO301_24_1971 predicted delay: 1.3625 minutes\n",
            "Trip GO301_24_2902 predicted delay: 0.6916666666666667 minutes\n",
            "Trip GO301_24_2756 predicted delay: -2.975 minutes\n",
            "Trip GO301_24_1299 predicted delay: -2.6125 minutes\n",
            "Trip GO301_24_799 predicted delay: -0.08958333333333333 minutes\n",
            "Trip GO301_24_6254 predicted delay: -1.5666666666666667 minutes\n",
            "Trip GO301_24_1582 predicted delay: -0.5854166666666667 minutes\n",
            "Trip GO301_24_1561 predicted delay: 8.379166666666666 minutes\n",
            "Trip GO301_24_1556 predicted delay: -0.9395833333333333 minutes\n",
            "Trip GO301_24_856 predicted delay: -0.4375 minutes\n",
            "Trip GO301_24_857 predicted delay: 3.225 minutes\n",
            "Trip GO301_24_1754 predicted delay: -0.6145833333333334 minutes\n",
            "Trip GO301_24_158 predicted delay: -3.7583333333333333 minutes\n",
            "Trip GO301_24_1554 predicted delay: -0.9375 minutes\n",
            "Trip GO301_24_858 predicted delay: -0.60625 minutes\n",
            "Trip GO301_24_1772 predicted delay: -2.408333333333333 minutes\n",
            "Trip GO301_24_18 predicted delay: 0.41458333333333336 minutes\n",
            "Trip GO301_24_1757 predicted delay: -0.6104166666666667 minutes\n",
            "Trip GO301_24_8052 predicted delay: 0.058333333333333334 minutes\n",
            "Trip GO301_24_161 predicted delay: -0.7875 minutes\n",
            "Trip GO301_24_7754 predicted delay: -1.8208333333333333 minutes\n",
            "Trip GO301_24_6856_2 predicted delay: 0.5047619047619047 minutes\n",
            "Trip GO301_24_2055 predicted delay: -0.8952380952380953 minutes\n",
            "Trip GO301_24_559 predicted delay: -0.4666666666666667 minutes\n",
            "Trip GO301_24_7953_4 predicted delay: 1.6 minutes\n",
            "Trip GO301_24_2757 predicted delay: -2.669047619047619 minutes\n",
            "Trip GO301_24_6751 predicted delay: -2.792857142857143 minutes\n",
            "Trip GO301_24_271 predicted delay: -0.7095238095238094 minutes\n",
            "Trip GO301_24_557 predicted delay: -2.8095238095238098 minutes\n",
            "Trip GO301_24_6256 predicted delay: -0.8357142857142857 minutes\n",
            "Trip GO301_24_888 predicted delay: -1.15 minutes\n",
            "Trip GO301_24_7950 predicted delay: 0.5571428571428572 minutes\n",
            "Trip GO301_24_1967 predicted delay: 0.8 minutes\n",
            "Trip GO301_24_2052 predicted delay: -3.7 minutes\n",
            "Trip GO301_24_20 predicted delay: -2.388095238095238 minutes\n",
            "Trip GO301_24_6161 predicted delay: 2.678571428571429 minutes\n",
            "Trip GO301_24_7755 predicted delay: 0.511904761904762 minutes\n",
            "Trip GO301_24_6754 predicted delay: -1.561904761904762 minutes\n",
            "Trip GO301_24_6152 predicted delay: 1.3476190476190477 minutes\n",
            "Trip GO301_24_6153 predicted delay: 1.5928571428571427 minutes\n",
            "Trip GO301_24_2910 predicted delay: 1.0595238095238095 minutes\n",
            "Trip GO301_24_2904 predicted delay: 0.6904761904761905 minutes\n",
            "Trip GO301_24_6755 predicted delay: -1.4 minutes\n",
            "Trip GO301_24_190 predicted delay: 2.1523809523809523 minutes\n",
            "Trip GO301_24_1297 predicted delay: -4.809523809523809 minutes\n",
            "Trip GO301_24_2759 predicted delay: -0.9 minutes\n",
            "Trip GO301_24_659 predicted delay: 4.14047619047619 minutes\n",
            "Trip GO301_24_7751 predicted delay: -2.238095238095238 minutes\n",
            "Trip GO301_24_752 predicted delay: -5.033333333333333 minutes\n",
            "Trip GO301_24_148 predicted delay: -1.830952380952381 minutes\n",
            "Trip GO301_24_8884 predicted delay: -0.33809523809523806 minutes\n",
            "Trip GO301_24_7955 predicted delay: 1.9476190476190476 minutes\n",
            "Trip GO301_24_1952 predicted delay: -0.44523809523809527 minutes\n"
          ]
        }
      ]
    },
    {
      "cell_type": "markdown",
      "metadata": {
        "id": "uiWSNKiTOFTe"
      },
      "source": [
        "Closes the connection"
      ]
    },
    {
      "cell_type": "code",
      "execution_count": null,
      "metadata": {
        "id": "eqsDPiLJuhzB"
      },
      "outputs": [],
      "source": [
        "#con.close()"
      ]
    },
    {
      "cell_type": "markdown",
      "metadata": {
        "id": "o7iE9F0NpVt5"
      },
      "source": []
    }
  ],
  "metadata": {
    "colab": {
      "provenance": []
    },
    "kernelspec": {
      "display_name": "Python 3",
      "name": "python3"
    },
    "language_info": {
      "name": "python"
    }
  },
  "nbformat": 4,
  "nbformat_minor": 0
}