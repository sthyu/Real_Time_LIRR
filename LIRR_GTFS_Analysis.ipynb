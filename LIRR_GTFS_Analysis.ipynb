{
  "cells": [
    {
      "cell_type": "code",
      "execution_count": null,
      "metadata": {
        "colab": {
          "base_uri": "https://localhost:8080/",
          "height": 342
        },
        "id": "YJ5cDAZpoPBx",
        "outputId": "1864c926-c1c9-4046-c3a6-9812fe082d57"
      },
      "outputs": [
        {
          "name": "stdout",
          "output_type": "stream",
          "text": [
            "Collecting gtfs-realtime-bindings\n",
            "  Downloading gtfs-realtime-bindings-1.0.0.tar.gz (6.2 kB)\n",
            "  Preparing metadata (setup.py) ... \u001b[?25l\u001b[?25hdone\n",
            "Requirement already satisfied: setuptools in /usr/local/lib/python3.10/dist-packages (from gtfs-realtime-bindings) (75.1.0)\n",
            "Requirement already satisfied: protobuf in /usr/local/lib/python3.10/dist-packages (from gtfs-realtime-bindings) (4.25.5)\n",
            "Building wheels for collected packages: gtfs-realtime-bindings\n",
            "  Building wheel for gtfs-realtime-bindings (setup.py) ... \u001b[?25l\u001b[?25hdone\n",
            "  Created wheel for gtfs-realtime-bindings: filename=gtfs_realtime_bindings-1.0.0-py3-none-any.whl size=5988 sha256=a9f73ab60dfc1d4fe30f65fef308b6a020fafa85ceb389fff7c41e3a0a80e98a\n",
            "  Stored in directory: /root/.cache/pip/wheels/43/98/27/68e4d1de8bb9d8505cfe412bf9af51e66f3e3bd2c98c849c3f\n",
            "Successfully built gtfs-realtime-bindings\n",
            "Installing collected packages: gtfs-realtime-bindings\n",
            "Successfully installed gtfs-realtime-bindings-1.0.0\n"
          ]
        },
        {
          "data": {
            "application/vnd.colab-display-data+json": {
              "id": "1d5fc62eb1d54362b5ee605af77d82e9",
              "pip_warning": {
                "packages": [
                  "google"
                ]
              }
            }
          },
          "metadata": {},
          "output_type": "display_data"
        }
      ],
      "source": [
        "pip install --upgrade gtfs-realtime-bindings\n"
      ]
    },
    {
      "cell_type": "code",
      "execution_count": null,
      "metadata": {
        "colab": {
          "base_uri": "https://localhost:8080/"
        },
        "id": "RcINK3w5oreL",
        "outputId": "abfb1511-75e2-429f-cdcc-244c73ef0902"
      },
      "outputs": [
        {
          "name": "stdout",
          "output_type": "stream",
          "text": [
            "Mounted at /content/drive\n"
          ]
        }
      ],
      "source": [
        "from google.colab import drive\n",
        "drive.mount('/content/drive')\n",
        "\n",
        "from google.transit import gtfs_realtime_pb2\n",
        "import requests\n",
        "import time\n",
        "from datetime import datetime, timezone, timedelta\n",
        "import os\n",
        "import pandas as pd\n",
        "import numpy as np\n",
        "#from protobuf_to_dict import protobuf_to_dict\n",
        "import sqlite3\n",
        "import csv\n",
        "import matplotlib.pyplot as plt\n",
        "#Following 2 lines added for Google Colab\n",
        "base_dir = '/content/drive/My Drive/Real_Time_LIRR/'\n",
        "os.chdir(base_dir)\n",
        "\n",
        "def db_setup():\n",
        "    con = sqlite3.connect(\"lirr_gtfs.db\")\n",
        "    cur = con.cursor()\n",
        "\n",
        "    # Drop tables\n",
        "    cur.execute('DROP TABLE IF EXISTS agency')\n",
        "    cur.execute('DROP TABLE IF EXISTS calendar_dates')\n",
        "    cur.execute('DROP TABLE IF EXISTS feed_info')\n",
        "    cur.execute('DROP TABLE IF EXISTS routes')\n",
        "    cur.execute('DROP TABLE IF EXISTS shapes')\n",
        "    cur.execute('DROP TABLE IF EXISTS stop_times')\n",
        "    cur.execute('DROP TABLE IF EXISTS stops')\n",
        "    cur.execute('DROP TABLE IF EXISTS transfers')\n",
        "    cur.execute('DROP TABLE IF EXISTS trips')\n",
        "    #crete table\n",
        "    cur.execute('''CREATE TABLE IF NOT EXISTS agency (\n",
        "                        agency_id TEXT PRIMARY KEY,\n",
        "                        agency_name TEXT,\n",
        "                        agency_url TEXT,\n",
        "                        agency_timezone TEXT,\n",
        "                        agency_lang TEXT,\n",
        "                        agency_phone TEXT)''')\n",
        "\n",
        "    cur.execute('''CREATE TABLE IF NOT EXISTS calendar_dates (\n",
        "                        service_id TEXT,\n",
        "                        date TEXT,\n",
        "                        exception_type INTEGER,\n",
        "                        PRIMARY KEY (service_id, date))''')\n",
        "\n",
        "    cur.execute('''CREATE TABLE IF NOT EXISTS feed_info (\n",
        "                        feed_publisher_name TEXT,\n",
        "                        feed_publisher_url TEXT,\n",
        "                        feed_timezone TEXT,\n",
        "                        feed_lang TEXT,\n",
        "                        feed_version TEXT)''')\n",
        "\n",
        "    cur.execute('''CREATE TABLE IF NOT EXISTS routes (\n",
        "                        route_id TEXT PRIMARY KEY,\n",
        "                        route_long_name TEXT,\n",
        "                        route_type INTEGER,\n",
        "                        route_color TEXT,\n",
        "                        route_text_color TEXT)''')\n",
        "\n",
        "    cur.execute('''CREATE TABLE IF NOT EXISTS shapes (\n",
        "                        shape_id TEXT,\n",
        "                        shape_pt_lat REAL,\n",
        "                        shape_pt_lon REAL,\n",
        "                        shape_pt_sequence INTEGER)''')\n",
        "\n",
        "    cur.execute('''CREATE TABLE IF NOT EXISTS stop_times (\n",
        "                        trip_id TEXT,\n",
        "                        arrival_time TEXT,\n",
        "                        departure_time TEXT,\n",
        "                        stop_id TEXT,\n",
        "                        stop_sequence INTEGER,\n",
        "                        pickup_type INTEGER,\n",
        "                        drop_off_type INTEGER)''')\n",
        "\n",
        "    cur.execute('''CREATE TABLE IF NOT EXISTS stops (\n",
        "                        stop_id TEXT PRIMARY KEY,\n",
        "                        stop_code TEXT,\n",
        "                        stop_name TEXT,\n",
        "                        stop_lat REAL,\n",
        "                        stop_lon REAL,\n",
        "                        stop_url TEXT,\n",
        "                        wheelchair_boarding INTEGER)''')\n",
        "\n",
        "    cur.execute('''CREATE TABLE IF NOT EXISTS transfers (\n",
        "                        from_stop_id TEXT,\n",
        "                        to_stop_id TEXT,\n",
        "                        from_trip_id TEXT,\n",
        "                        to_trip_id TEXT,\n",
        "                        transfer_type INTEGER,\n",
        "                        min_transfer_time INTEGER)''')\n",
        "\n",
        "    cur.execute('''CREATE TABLE IF NOT EXISTS trips (\n",
        "                        route_id TEXT,\n",
        "                        service_id TEXT,\n",
        "                        trip_id TEXT PRIMARY KEY,\n",
        "                        trip_headsign TEXT,\n",
        "                        trip_short_name TEXT,\n",
        "                        direction_id INTEGER,\n",
        "                        shape_id TEXT,\n",
        "                        peak_offpeak INTEGER)''')\n",
        "\n",
        "    file_list = {\n",
        "        'agency': 'google_transit/agency.txt',\n",
        "        'calendar_dates': 'google_transit/calendar_dates.txt',\n",
        "        'feed_info': 'google_transit/feed_info.txt',\n",
        "        'routes': 'google_transit/routes.txt',\n",
        "        'shapes': 'google_transit/shapes.txt',\n",
        "        'stop_times': 'google_transit/stop_times.txt',\n",
        "        'stops': 'google_transit/stops.txt',\n",
        "        'transfers': 'google_transit/transfers.txt',\n",
        "        'trips': 'google_transit/trips.txt'\n",
        "    }\n",
        "\n",
        "\n",
        "    for table_name, file_path in file_list.items():\n",
        "        with open(file_path, 'r') as file:\n",
        "            reader = csv.reader(file, delimiter=',')\n",
        "            headers = next(reader)\n",
        "            placeholders = ','.join(['?'] * len(headers))\n",
        "            query = f'INSERT OR IGNORE INTO {table_name} ({\",\".join(headers)}) VALUES ({placeholders})'\n",
        "            for row in reader:\n",
        "                try:\n",
        "                    cur.execute(query, row)\n",
        "                except sqlite3.IntegrityError as e:\n",
        "                    print(f\"Error inserting row into {table_name}: {row}\")\n",
        "                    print(e)\n",
        "\n",
        "    con.commit()\n",
        "    con.close()\n",
        "\n",
        "def import_txt_as_list(path):\n",
        "    lists = {}\n",
        "    for file_name in os.listdir(path):\n",
        "        if file_name.endswith('.txt'):\n",
        "            file_path = os.path.join(path, file_name)\n",
        "            with open(file_path, 'r') as file:\n",
        "                lists[file_name] = [line.strip() for line in file]\n",
        "    return lists\n",
        "csv_path_const = '/content/drive/My Drive/Real_Time_LIRR/data/' #With google drive\n",
        "#csv_path_const = 'data/gtfs_data_collection.csv' #original"
      ]
    },
    {
      "cell_type": "code",
      "execution_count": null,
      "metadata": {
        "id": "RG1NsMFWpF9k"
      },
      "outputs": [],
      "source": []
    },
    {
      "cell_type": "code",
      "execution_count": null,
      "metadata": {
        "id": "ZDHjHDpApaAe"
      },
      "outputs": [],
      "source": [
        "def analyze():\n",
        "    return 0\n",
        "\n",
        "\n",
        "def print_all_tables():\n",
        "    con = sqlite3.connect(\"lirr_gtfs.db\")\n",
        "    cur = con.cursor()\n",
        "    tables = ['agency', 'calendar_dates', 'feed_info', 'routes', 'shapes', 'stop_times', 'stops', 'transfers', 'trips']\n",
        "\n",
        "    for table in tables:\n",
        "        cur.execute(f'SELECT * FROM {table}')\n",
        "        rows = cur.fetchall()\n",
        "        print(f'Table: {table}')\n",
        "        for row in rows:\n",
        "            print(row)\n",
        "        print('\\n')\n",
        "\n",
        "    con.close()"
      ]
    },
    {
      "cell_type": "code",
      "execution_count": null,
      "metadata": {
        "id": "In-wobNypnaU"
      },
      "outputs": [],
      "source": [
        "def get_info_trip(cur, train):\n",
        "    trip_id = train['trip_id']\n",
        "    trip = cur.execute(f'SELECT * FROM trips WHERE trip_id = ?', (trip_id,)).fetchone()\n",
        "    route = trip[0]\n",
        "    service_id = trip[1]\n",
        "    trip_id = trip[2]\n",
        "    trip_headsign = trip[3]\n",
        "    trip_short_name = trip[4]\n",
        "    direction_id = trip[5]\n",
        "    shape_id = trip[6] #not used\n",
        "    peak_offpeak = trip[7]\n",
        "    terminal_info = [route, service_id, trip_headsign, trip_short_name, direction_id, peak_offpeak]\n",
        "    return terminal_info\n",
        "\n",
        "\n",
        "#given a file path, combine every file inside the list into a single pandas dataframe\n",
        "def combine_all_csv(file_path):\n",
        "\n",
        "    #list all the files from the directory\n",
        "    file_list = os.listdir(file_path)\n",
        "    #print(file_list)\n",
        "    combined_list = []\n",
        "    for file in file_list:\n",
        "        file_str = file_path + '/' + file\n",
        "        csv_data = read_csv(file_str)\n",
        "\n",
        "        combined_list.append(csv_data)\n",
        "        #df = pd.read_csv(file_str)\n",
        "        #df_combined = df_combined.append(df, ignore_index=True)\n",
        "    #file_list\n",
        "    #df_combined = pd.DataFrame(combined_list)\n",
        "    df_combined = pd.concat([pd.DataFrame(lst) for lst in combined_list], ignore_index=True) #Concatenate the list of DataFrames into a single DataFrame\n",
        "    return df_combined\n",
        "\n",
        "\n",
        "#probably redundant\n",
        "def read_csv(csv_path):\n",
        "    data = []\n",
        "    with open(csv_path, 'r', encoding='utf-8') as csvfile:\n",
        "        reader = csv.DictReader(csvfile)\n",
        "        for row in reader:\n",
        "            data.append(row)\n",
        "    return data\n",
        "\n",
        "def find_train_csv(panda_df, train_id):\n",
        "    train_data = panda_df[panda_df['train_id'] == train_id]\n",
        "    #if failed\n",
        "    if(train_data.empty):\n",
        "        return None\n",
        "    return train_data\n",
        "\n",
        "def find_arrival_time(train_data):\n",
        "    return train_data['local_arrival_time']\n",
        "\n",
        "def convert_to_seconds(delay_str):\n",
        "    parts = delay_str.split()\n",
        "    minutes = int(parts[0]) if parts[1] == 'm' else 0\n",
        "    seconds = int(parts[2]) if parts[3] == 's' else 0\n",
        "    total_seconds = minutes * 60 + seconds\n",
        "    return total_seconds if delay_str[0] != '-' else -total_seconds\n",
        "\n",
        "#Given a delay string, convert it to a number representing seconds\n",
        "def parse_delay(delay):\n",
        "\n",
        "    sign = 1\n",
        "    if delay.startswith('-'):\n",
        "        sign = -1\n",
        "        delay = delay[1:]\n",
        "\n",
        "    parts = delay.split(' ')\n",
        "    minutes = int(parts[0].replace('m', ''))\n",
        "    seconds = int(parts[1].replace('s', ''))\n",
        "    total_seconds = minutes * 60 + seconds\n",
        "    if(sign == -1):\n",
        "        total_seconds = total_seconds * -1\n",
        "    return total_seconds\n",
        "\n",
        "\n",
        "#Given OPTION = -1, remove delays <-15 min or >15 min (Excessive delays)\n",
        "def clean_data_drop_outliers(data_frame, option):\n",
        "    data_frame_new = data_frame.copy()\n",
        "    # Remove duplicate rows this does not work\n",
        "    #data_frame_new = data_frame_new.drop_duplicates()\n",
        "\n",
        "    # If option is -1, remove rows with excessive delays\n",
        "    if option == -1:\n",
        "        indices_to_drop = []\n",
        "        for index, row in data_frame_new.iterrows():\n",
        "            delay_converted_s = parse_delay(row['delay_formatted'])\n",
        "            if delay_converted_s > (15 * 60) or delay_converted_s < (-15 * 60):\n",
        "                indices_to_drop.append(index)\n",
        "\n",
        "        data_frame_new = data_frame_new.drop(indices_to_drop)\n",
        "\n",
        "\n",
        "    data_frame_new['delay_formatted'] = data_frame_new['delay_formatted'].apply(parse_delay)\n",
        "    return data_frame_new\n",
        "\n",
        "#return number of trains aka length of dataframe\n",
        "def count_trains(pandas_df):\n",
        "    return len(pandas_df)\n",
        "\n",
        "#counts the number of trains on a particular route\n",
        "#Routes/Branches: Babylon, Hempstead, Oyster Bay, Ronkonkoma, Montauk, Long Beach, Far Rockaway, West Hempstead, Port Washington, Port Jefferson, Belmont Park, City Terminal\n",
        "def count_routes(pandas_df):\n",
        "    route_counter =  [0,0,0,0,0,0,0,0,0,0,0,0]\n",
        "    for index, train in pandas_df.iterrows():\n",
        "        route_id = train['route_id']\n",
        "\n",
        "        route_counter[int(route_id)-1] = route_counter[int(route_id)-1] + 1\n",
        "\n",
        "    return route_counter\n",
        "\n",
        "#count number of trains on each route that arrive 0 min or later\n",
        "def delayed_trains_per_route(pandas_df):\n",
        "    route_counter =  [0,0,0,0,0,0,0,0,0,0,0,0]\n",
        "    for index, train in pandas_df.iterrows():\n",
        "        route_id = train['route_id']\n",
        "        #delay = train['delay_formatted']\n",
        "        delay_seconds = train['delay_formatted']\n",
        "        #delay_formatted = delay.time()\n",
        "        #delay_seconds = parse_delay(delay_formatted)\n",
        "        if(delay_seconds>0):\n",
        "\n",
        "          route_id = train['route_id']\n",
        "          route_counter[int(route_id)-1] = route_counter[int(route_id)-1] + 1\n",
        "    return route_counter\n",
        "\n",
        "#categorize the severity of delays that happen (negative delay = on time)\n",
        "def category_of_delays(pandas_df):\n",
        "    categories = [-float('inf'), -600, -300, -120, 0, 120, 300, 600, float('inf')]\n",
        "    labels = ['> -10 min', '(-10 to -5 min]', '(-5 to -2 min]', '(-2-0 min]', '(0-2 min]', '(2-5 min]', '(5-10 min]', '>10+ min']\n",
        "    count_df = pandas_df.copy()\n",
        "\n",
        "    count_df['category'] = pd.cut(count_df['delay_formatted'], bins=categories, labels=labels)\n",
        "    category_counts = count_df['category'].value_counts().reindex(labels, fill_value=0)\n",
        "    #print(category_counts)\n",
        "    return count_df,category_counts\n",
        "#sorts delayed trains per hour\n",
        "def delayed_trains_per_hour(pandas_df):\n",
        "    count_df = pandas_df.copy()\n",
        "\n",
        "    count_df['hour'] = pd.to_datetime(count_df['local_arrival_time']).dt.strftime('%H')\n",
        "\n",
        "    sorted_delays = count_df.groupby('hour').size().reset_index(name='delayed_trains_count')\n",
        "\n",
        "    return sorted_delays\n",
        "\n",
        "\n"
      ]
    },
    {
      "cell_type": "code",
      "execution_count": 53,
      "metadata": {
        "id": "jVhkyp_ca9f0"
      },
      "outputs": [],
      "source": [
        "#Get all transfers of a particualr trip at station station_id\n",
        "def get_transfers_trip(cur, station_id, trip_id):\n",
        "    #transfers = cur.execute(f'SELECT ALL FROM transfers WHERE from_stop_id = ?',(station_id)).fechall()\n",
        "    query = '''\n",
        "    SELECT *\n",
        "    FROM transfers\n",
        "    WHERE from_stop_id = ?\n",
        "    AND (from_trip_id = ? OR to_trip_id = ?)\n",
        "    '''\n",
        "    cur.execute(query, (station_id, trip_id, trip_id))\n",
        "    transfers = cur.fetchall()\n",
        "    return transfers\n",
        "\n",
        "def convert_to_seconds (time_str):\n",
        "    hours, minutes, seconds = map(int, time_str.split(':'))\n",
        "    # Calculate the total number of seconds\n",
        "    seconds = hours * 3600 + minutes * 60 + seconds\n",
        "\n",
        "    return seconds\n",
        "#Method to find how many transfers were \"missed\". This assumes a 3 min buffer period for all transfers.\n",
        "#Trains with <3 min buffer period\n",
        "#Obtains all transfer times via analyzing stop_times.txt\n",
        "#Returns number of transfers where transfer time is in the negatives\n",
        "\n",
        "\n",
        "def analyze_transfers_trip_act(cur, transfers, station_id, expected_val, df):\n",
        "    missed_transfers = 0\n",
        "    unknown_transfers = 0\n",
        "\n",
        "    # Iterate through the transfers\n",
        "    for transfer in transfers:\n",
        "        from_stop_id, to_stop_id, from_trip_id, to_trip_id, transfer_id, _ = transfer\n",
        "\n",
        "        # Find arrival time for both from_trip_id and to_trip_id from df\n",
        "        transfer_found = False\n",
        "        transfer_time = None\n",
        "\n",
        "        # We need to check both from_trip_id and to_trip_id based on expected_val\n",
        "        if expected_val == 1:  # Arrival comparison\n",
        "            # Check if from_trip_id exists in the DataFrame\n",
        "            transfer_row_from = df[df['trip_id'] == from_trip_id]\n",
        "            if not transfer_row_from.empty:\n",
        "                transfer_found = True\n",
        "                transfer_time = pd.to_datetime(transfer_row_from['local_arrival_time'].iloc[0])\n",
        "        else:  # Departure comparison (assumed to be same as arrival for lack of departure time)\n",
        "            # Check if to_trip_id exists in the DataFrame\n",
        "            transfer_row_to = df[df['trip_id'] == to_trip_id]\n",
        "            if not transfer_row_to.empty:\n",
        "                transfer_found = True\n",
        "                transfer_time = pd.to_datetime(transfer_row_to['local_arrival_time'].iloc[0])\n",
        "\n",
        "        if not transfer_found:\n",
        "            unknown_transfers += 1\n",
        "            continue\n",
        "\n",
        "        # Query stop_times table for arrival times for both from_trip_id and to_trip_id\n",
        "        query = '''\n",
        "        SELECT arrival_time, departure_time\n",
        "        FROM stop_times\n",
        "        WHERE trip_id = ? AND stop_id = ?\n",
        "        '''\n",
        "\n",
        "        # First, check for the from_trip_id (for arrival comparison)\n",
        "        cur.execute(query, (from_trip_id, station_id))\n",
        "        stop_times_from = cur.fetchall()\n",
        "\n",
        "        # Then, check for the to_trip_id (for arrival comparison)\n",
        "        cur.execute(query, (to_trip_id, station_id))\n",
        "        stop_times_to = cur.fetchall()\n",
        "\n",
        "        # If no matching stop times for both directions, it's an unknown transfer\n",
        "        if not stop_times_from and not stop_times_to:\n",
        "            unknown_transfers += 1\n",
        "            continue\n",
        "\n",
        "        # Extract arrival times for both directions (from_trip_id and to_trip_id)\n",
        "        transfer_time = transfer_time.tz_localize(None)  # Make naive for comparison\n",
        "        buffer = timedelta(minutes=3)  # Define the buffer period\n",
        "\n",
        "        missed_in_from = missed_in_to = False\n",
        "\n",
        "        # Check missed transfer for from_trip_id\n",
        "        if stop_times_from:\n",
        "            arrival_time_str, _ = stop_times_from[0]\n",
        "            arrival_time_from = pd.to_datetime(arrival_time_str).tz_localize(None)\n",
        "            if expected_val == 1 and transfer_time - arrival_time_from < buffer:\n",
        "                missed_in_from = True\n",
        "            elif expected_val != 1 and transfer_time - arrival_time_from < buffer:\n",
        "                missed_in_from = True\n",
        "\n",
        "        # Check missed transfer for to_trip_id\n",
        "        if stop_times_to:\n",
        "            arrival_time_str, _ = stop_times_to[0]\n",
        "            arrival_time_to = pd.to_datetime(arrival_time_str).tz_localize(None)\n",
        "            if expected_val == 1 and transfer_time - arrival_time_to < buffer:\n",
        "                missed_in_to = True\n",
        "            elif expected_val != 1 and transfer_time - arrival_time_to < buffer:\n",
        "                missed_in_to = True\n",
        "\n",
        "        # If the transfer is missed in either direction, increment missed transfers\n",
        "        if missed_in_from or missed_in_to:\n",
        "            missed_transfers += 1\n",
        "\n",
        "    return missed_transfers, unknown_transfers\n"
      ]
    },
    {
      "cell_type": "code",
      "execution_count": 58,
      "metadata": {
        "id": "g7F7ebNku-LW"
      },
      "outputs": [],
      "source": [
        "\n",
        "\n",
        "def time_to_seconds(t):\n",
        "    \"\"\"Convert a time object to the number of seconds since midnight.\"\"\"\n",
        "    return t.hour * 3600 + t.minute * 60 + t.second\n",
        "\n",
        "def analyze_transfers_trip(cur, station_id, df):\n",
        "    missed_transfer_count = 0\n",
        "\n",
        "    # Iterate through each train in the DataFrame\n",
        "    for index, row in df.iterrows():\n",
        "        trip_id = row['trip_id']\n",
        "        arrival_time_str = row['local_arrival_time']\n",
        "\n",
        "        # Strip out the timezone part for comparison purposes\n",
        "        arrival_time_str = arrival_time_str[:19]  # Keep the first 19 characters (YYYY-MM-DD HH:MM:SS)\n",
        "        arrival_time = datetime.strptime(arrival_time_str, \"%Y-%m-%d %H:%M:%S\").time()  # Convert to time object\n",
        "\n",
        "        # Fetch all transfers related to the trip_id (either as from_trip_id or to_trip_id)\n",
        "        cur.execute('''\n",
        "            SELECT from_stop_id, to_stop_id, from_trip_id, to_trip_id, transfer_type, min_transfer_time\n",
        "            FROM transfers\n",
        "            WHERE (from_trip_id = ? OR to_trip_id = ?)\n",
        "            AND (from_stop_id = ? OR to_stop_id = ?)\n",
        "        ''', (trip_id, trip_id, station_id, station_id))\n",
        "\n",
        "        transfers = cur.fetchall()\n",
        "\n",
        "        # For each transfer, we need to check the other trip's departure time\n",
        "        for transfer in transfers:\n",
        "            # Extract data from transfer tuple\n",
        "            from_stop_id, to_stop_id, from_trip_id, to_trip_id, transfer_type, min_transfer_time = transfer\n",
        "\n",
        "            # Determine paired trip based on the current trip's direction\n",
        "            if trip_id == from_trip_id:\n",
        "                paired_trip_id = to_trip_id\n",
        "            elif trip_id == to_trip_id:\n",
        "                paired_trip_id = from_trip_id\n",
        "            else:\n",
        "                continue  # If the current trip doesn't match either from or to, skip this transfer\n",
        "\n",
        "            # Fetch the stop_time for the paired trip_id\n",
        "            cur.execute('''\n",
        "                SELECT departure_time\n",
        "                FROM stop_times\n",
        "                WHERE trip_id = ? AND stop_id = ?\n",
        "                ORDER BY stop_sequence\n",
        "                LIMIT 1\n",
        "            ''', (paired_trip_id, station_id))\n",
        "\n",
        "            paired_departure_time_row = cur.fetchone()\n",
        "\n",
        "            if paired_departure_time_row:\n",
        "                # Extract the departure time and convert to a time object\n",
        "                paired_departure_time_str = paired_departure_time_row[0]\n",
        "                paired_departure_time = datetime.strptime(paired_departure_time_str, \"%H:%M:%S\").time()\n",
        "\n",
        "                # Convert both times to seconds since midnight\n",
        "                arrival_seconds = time_to_seconds(arrival_time)\n",
        "                paired_departure_seconds = time_to_seconds(paired_departure_time)\n",
        "\n",
        "                # Check if the departure time is before or equal to arrival time, or within 3 minutes\n",
        "                if (paired_departure_seconds <= arrival_seconds) or (abs(paired_departure_seconds - arrival_seconds) <= 180):\n",
        "                    missed_transfer_count += 1\n",
        "\n",
        "    return missed_transfer_count\n",
        "\n"
      ]
    },
    {
      "cell_type": "code",
      "execution_count": null,
      "metadata": {
        "id": "V4yIw1v68rJb"
      },
      "outputs": [],
      "source": [
        "def count_delayed_trains_info(pandas_df):\n",
        "\n",
        "    count_df = pandas_df.copy()\n",
        "\n",
        "    for idx, row in count_df.iterrows():\n",
        "        trip_id = row['trip_id']\n",
        "        query = \"\"\"\n",
        "            SELECT peak_offpeak\n",
        "            FROM trips\n",
        "            WHERE trip_id = ?\n",
        "        \"\"\"\n",
        "        result = cur.execute(query, (trip_id,)).fetchone()\n",
        "\n",
        "        if result:\n",
        "            count_df.at[idx, 'peak_offpeak'] = result[0]\n",
        "        else:\n",
        "            count_df.at[idx, 'peak_offpeak'] = 3\n",
        "    am_peak_count = count_df[(count_df['direction_id'].astype(int) == 1) & (count_df['peak_offpeak'].astype(int) == 1)].shape[0]\n",
        "    pm_peak_count = count_df[(count_df['direction_id'].astype(int) == 0) & (count_df['peak_offpeak'].astype(int) == 1)].shape[0]\n",
        "\n",
        "    peak_count = count_df[count_df['peak_offpeak'].astype(int) == 1].shape[0]\n",
        "    off_peak_count = count_df[count_df['peak_offpeak'].astype(int) == 0].shape[0]\n",
        "    unknown_count = count_df[count_df['peak_offpeak'].astype(int) == 3].shape[0]\n",
        "    print(f\"AM Peak count: {am_peak_count}\")\n",
        "    print(f\"PM Peak count: {pm_peak_count}\")\n",
        "    print(f\"Peak count: {peak_count}\")\n",
        "    print(f\"Off Peak count: {off_peak_count}\")\n",
        "    print(f\"Unknown count: {unknown_count}\")\n",
        "    print(f\"Total count: {len(pandas_df)}\")\n",
        "    result = {\n",
        "        'AM Peak': am_peak_count,\n",
        "        'PM Peak': pm_peak_count,\n",
        "        'Peak': peak_count,\n",
        "        'Off Peak': off_peak_count,\n",
        "        'Unknown': unknown_count\n",
        "    }\n",
        "    return count_df, result\n"
      ]
    },
    {
      "cell_type": "code",
      "execution_count": null,
      "metadata": {
        "id": "epRHWJQdxM7_"
      },
      "outputs": [],
      "source": [
        "def count_delayed_trains_info_n(pandas_df, res):\n",
        "    #GIVEN modified dataframe with peak_offpeak\n",
        "\n",
        "    count_df = pandas_df.copy()\n",
        "\n",
        "\n",
        "    delayed_trains_count = len(count_df[count_df['delay_formatted'].astype(int) > 0])\n",
        "    print(f\"Total delayed trains: {delayed_trains_count}\")\n",
        "\n",
        "    # Filter out delayed trains only\n",
        "    delayed_trains_info = count_df[count_df['delay_formatted'] > 0]\n",
        "\n",
        "    # Calculate the average delay time for delayed trains\n",
        "    avg_delay = delayed_trains_info['delay_formatted'].mean()/60\n",
        "    print(f\"Average delay time (minutes): {avg_delay:.2f}\")\n",
        "\n",
        "    am_peak_count = delayed_trains_info[(delayed_trains_info['direction_id'].astype(int) == 1) & (delayed_trains_info['peak_offpeak'].astype(int) == 1)].shape[0]\n",
        "    pm_peak_count = delayed_trains_info[(delayed_trains_info['direction_id'].astype(int) == 0) & (delayed_trains_info['peak_offpeak'].astype(int) == 1)].shape[0]\n",
        "    peak_count =delayed_trains_info[delayed_trains_info['peak_offpeak'].astype(int) == 1].shape[0]\n",
        "    off_peak_count = delayed_trains_info[delayed_trains_info['peak_offpeak'].astype(int) == 0].shape[0]\n",
        "    unknown_count = delayed_trains_info[delayed_trains_info['peak_offpeak'].astype(int) == 3].shape[0]\n",
        "    print(\"Number of Late trains: \")\n",
        "    print(f\"AM Peak count: {am_peak_count}\")\n",
        "    print(f\"PM Peak count: {pm_peak_count}\")\n",
        "    print(f\"Peak count: {peak_count}\")\n",
        "    print(f\"Off Peak count: {off_peak_count}\")\n",
        "    print(f\"Unknown count: {unknown_count}\")\n",
        "    print(f\"Total count: {len(pandas_df)}\")\n",
        "    print(\"\")\n",
        "    print(\"Percentage of trains Late: \")\n",
        "    am_peak_percentage = (am_peak_count / res['AM Peak'])*100\n",
        "    pm_peak_percentage = (pm_peak_count / res['PM Peak'])*100\n",
        "    peak_percentage = (peak_count / res['Peak'])*100\n",
        "    off_peak_percentage = (off_peak_count / res['Off Peak'])*100\n",
        "    unknown_percentage = (unknown_count / res['Unknown'])*100\n",
        "    print(f\"AM Peak percentage: {am_peak_percentage:.2f}%\")\n",
        "    print(f\"PM Peak percentage: {pm_peak_percentage:.2f}%\")\n",
        "    print(f\"Peak percentage: {peak_percentage:.2f}%\")\n",
        "    print(f\"Off Peak percentage: {off_peak_percentage:.2f}%\")\n",
        "    print(f\"Unknown percentage: {unknown_percentage:.2f}%\")\n"
      ]
    },
    {
      "cell_type": "markdown",
      "metadata": {
        "id": "PLOtPeVlq1w6"
      },
      "source": [
        "this sets up the SQL tables that are needed for data analysis\n"
      ]
    },
    {
      "cell_type": "markdown",
      "metadata": {
        "id": "e4TipKAqZnsJ"
      },
      "source": [
        "The data is cleaned by removing excessive (>15 min late or >15 min early) delays. Trains which exceed this time period often are either nonrevenue moves, or a result of a massive service disruption (suspension, cancelled train, police activity, mechanical problems, etc.)"
      ]
    },
    {
      "cell_type": "code",
      "execution_count": null,
      "metadata": {
        "colab": {
          "base_uri": "https://localhost:8080/"
        },
        "id": "fEDhgR6MpvJn",
        "outputId": "3ba52e69-c624-450e-c496-f60d33a28b3f"
      },
      "outputs": [
        {
          "name": "stdout",
          "output_type": "stream",
          "text": [
            "/content/drive/My Drive/Real_Time_LIRR/data/\n",
            "              trip_id direction  delay_formatted         local_arrival_time  \\\n",
            "1       GO301_24_1618                         20  2024-07-18 10:59:20-04:00   \n",
            "2       GO301_24_2018                       -103  2024-07-18 10:23:43-04:00   \n",
            "3       GO301_24_1294                        -83  2024-07-18 11:27:23-04:00   \n",
            "4       GO301_24_2722                       -115  2024-07-18 10:44:55-04:00   \n",
            "5        GO301_24_722                        120  2024-07-18 11:11:00-04:00   \n",
            "...               ...       ...              ...                        ...   \n",
            "6946  GO301_24_7953_4                       -218  2024-07-13 14:15:38-04:00   \n",
            "6947    GO301_24_6253                         93  2024-07-13 14:16:33-04:00   \n",
            "6948    GO301_24_8888                       -147  2024-07-13 14:20:27-04:00   \n",
            "6949    GO301_24_8054                         80  2024-07-13 14:22:20-04:00   \n",
            "6950  GO301_24_6005_3                        643  2024-07-13 14:27:43-04:00   \n",
            "\n",
            "     start_date schedule_relationship route_id direction_id  \n",
            "1      20240718                     0       10            0  \n",
            "2      20240718                     0        4            0  \n",
            "3      20240718                     0        1            0  \n",
            "4      20240718                     0        7            0  \n",
            "5      20240718                     0        2            0  \n",
            "...         ...                   ...      ...          ...  \n",
            "6946   20240713                     0        4            1  \n",
            "6947   20240713                     0        1            1  \n",
            "6948   20240713                     0       12            0  \n",
            "6949   20240713                     0        4            0  \n",
            "6950   20240713                     0        5            1  \n",
            "\n",
            "[6921 rows x 8 columns]\n"
          ]
        }
      ],
      "source": [
        "db_setup()\n",
        "\n",
        "#print_all_tables()\n",
        "#csv_path_const_1 = 'data/gtfs_data_collection1.csv'\n",
        "#csv_data = read_csv(csv_path_const_1)\n",
        "#print(csv_data)\n",
        "#first_data = csv_data[0]\n",
        "#print(first_data)\n",
        "\n",
        "con = sqlite3.connect(\"lirr_gtfs.db\")\n",
        "cur = con.cursor()\n",
        "#ti = get_info_trip(cur, first_data)\n",
        "#print(ti)\n",
        "print(csv_path_const)\n",
        "combined_df = combine_all_csv(csv_path_const)\n",
        "\n",
        "#print(combined_df)\n",
        "cleaned_data = clean_data_drop_outliers(combined_df,-1)\n",
        "print(cleaned_data)\n",
        "\n",
        "\n"
      ]
    },
    {
      "cell_type": "markdown",
      "metadata": {
        "id": "IStVrby1PHhJ"
      },
      "source": [
        "Counts the total # of trains in the datasest"
      ]
    },
    {
      "cell_type": "code",
      "execution_count": null,
      "metadata": {
        "colab": {
          "base_uri": "https://localhost:8080/"
        },
        "id": "tVSiBGqsOE1q",
        "outputId": "463eb602-3f37-4fb2-fadb-184ad3825298"
      },
      "outputs": [
        {
          "data": {
            "text/plain": [
              "6921"
            ]
          },
          "execution_count": 10,
          "metadata": {},
          "output_type": "execute_result"
        }
      ],
      "source": [
        "count_trains(cleaned_data)"
      ]
    },
    {
      "cell_type": "markdown",
      "metadata": {
        "id": "GGMUPN5CPPgN"
      },
      "source": [
        "Counts the number of trains that operate each route"
      ]
    },
    {
      "cell_type": "markdown",
      "metadata": {
        "id": "SdRXtboYUI6R"
      },
      "source": [
        "Counts the number of delayed trains per route"
      ]
    },
    {
      "cell_type": "code",
      "execution_count": 77,
      "metadata": {
        "colab": {
          "base_uri": "https://localhost:8080/"
        },
        "id": "l76vOCz8URRC",
        "outputId": "3a8c4f5d-ca57-416a-c6cb-cf13531e7f83"
      },
      "outputs": [
        {
          "output_type": "stream",
          "name": "stdout",
          "text": [
            "Trains per route\n",
            "Babylon Branch: 1583\n",
            "Hempstead Branch: 548\n",
            "Oyster Bay Branch: 175\n",
            "Ronkonkoma Branch: 1079\n",
            "Montauk Branch: 164\n",
            "Long Beach Branch: 603\n",
            "Far Rockaway Branch: 587\n",
            "West Hempstead Branch: 455\n",
            "Port Washington Branch: 0\n",
            "Port Jefferson Branch: 1142\n",
            "Belmont Park: 0\n",
            "City Terminal Zone: 585\n",
            "------------------------------------------------------\n",
            "Delayed trains per route\n",
            "Babylon Branch: 799\n",
            "Hempstead Branch: 279\n",
            "Oyster Bay Branch: 99\n",
            "Ronkonkoma Branch: 554\n",
            "Montauk Branch: 92\n",
            "Long Beach Branch: 301\n",
            "Far Rockaway Branch: 229\n",
            "West Hempstead Branch: 190\n",
            "Port Washington Branch: 0\n",
            "Port Jefferson Branch: 634\n",
            "Belmont Park: 0\n",
            "City Terminal Zone: 261\n"
          ]
        }
      ],
      "source": [
        "route_array = (count_routes(cleaned_data))\n",
        "\n",
        "print(\"Trains per route\")\n",
        "for index, elem in enumerate(route_array):\n",
        "  route_num = index+1\n",
        "\n",
        "  query = \"\"\"\n",
        "        SELECT route_long_name\n",
        "        FROM routes\n",
        "        WHERE route_id = ?\n",
        "    \"\"\"\n",
        "\n",
        "  cur.execute(query,(route_num,))\n",
        "  route_name = cur.fetchall()\n",
        "\n",
        "  print(route_name[0][0] + \": \" + str(elem))\n",
        "print (\"------------------------------------------------------\")\n",
        "delayed_route_array = delayed_trains_per_route(cleaned_data)\n",
        "delay_array = delayed_route_array.copy()\n",
        "print(\"Delayed trains per route\")\n",
        "for index, elem in enumerate(delayed_route_array):\n",
        "  route_num = index+1\n",
        "\n",
        "  query = \"\"\"\n",
        "        SELECT route_long_name\n",
        "        FROM routes\n",
        "        WHERE route_id = ?\n",
        "    \"\"\"\n",
        "\n",
        "  cur.execute(query,(route_num,))\n",
        "  route_name = cur.fetchall()\n",
        "\n",
        "  print(route_name[0][0] + \": \" + str(elem))"
      ]
    },
    {
      "cell_type": "markdown",
      "metadata": {
        "id": "KW7KQsgyUsE0"
      },
      "source": [
        "Counts Proportion of delayed trains per route"
      ]
    },
    {
      "cell_type": "code",
      "execution_count": null,
      "metadata": {
        "colab": {
          "base_uri": "https://localhost:8080/"
        },
        "id": "ya-AjpdBUpzt",
        "outputId": "bd30e43d-df94-4154-b521-e3547e0c8c68"
      },
      "outputs": [
        {
          "name": "stdout",
          "output_type": "stream",
          "text": [
            "Babylon Branch: 0.5047378395451674\n",
            "Hempstead Branch: 0.5091240875912408\n",
            "Oyster Bay Branch: 0.5657142857142857\n",
            "Ronkonkoma Branch: 0.5134383688600556\n",
            "Montauk Branch: 0.5609756097560976\n",
            "Long Beach Branch: 0.49917081260364843\n",
            "Far Rockaway Branch: 0.3901192504258944\n",
            "West Hempstead Branch: 0.4175824175824176\n",
            "Port Washington Branch: 0\n",
            "Port Jefferson Branch: 0.5551663747810858\n",
            "Belmont Park: 0\n",
            "City Terminal Zone: 0.4461538461538462\n"
          ]
        }
      ],
      "source": [
        "for index, (elem1, elem2) in enumerate(zip(route_array,delay_array)):\n",
        "  route_num = index+1\n",
        "\n",
        "  query = \"\"\"\n",
        "        SELECT route_long_name\n",
        "        FROM routes\n",
        "        WHERE route_id = ?\n",
        "    \"\"\"\n",
        "\n",
        "  cur.execute(query,(route_num,))\n",
        "  route_name = cur.fetchall()\n",
        "  if(elem1 != 0):\n",
        "    print(route_name[0][0] + \": \" + str(elem2/elem1))\n",
        "  else:\n",
        "    print(route_name[0][0] + \": \" + str(0))\n"
      ]
    },
    {
      "cell_type": "markdown",
      "source": [
        "Plots the proportion of delays on each route. Not surprisingly, the diesel routes had higher rates of delays due to the inefficiency of diesel traction and the poor reliability of the diesel fleet. There are no delays on the Port Washington Branch and Belmont Park branches because the Port Washington Branch does not run through Jamaica, and the Belmont Park Branch is officially discontinued due to the closure of Belmont Park station."
      ],
      "metadata": {
        "id": "-xfj-zmVSyno"
      }
    },
    {
      "cell_type": "code",
      "source": [
        "import matplotlib.pyplot as plt\n",
        "\n",
        "route_names = []\n",
        "train_counts = []\n",
        "delayed_train_counts = []\n",
        "delay_percentages = []\n",
        "\n",
        "for index, elem in enumerate(route_array):\n",
        "    route_num = index + 1\n",
        "    route_name = cur.execute(\"SELECT route_long_name FROM routes WHERE route_id = ?\", (route_num,)).fetchone()[0]\n",
        "    route_names.append(route_name)\n",
        "    train_counts.append(elem)\n",
        "\n",
        "for index, elem in enumerate(delayed_route_array):\n",
        "    route_num = index + 1\n",
        "    route_name = cur.execute(\"SELECT route_long_name FROM routes WHERE route_id = ?\", (route_num,)).fetchone()[0]\n",
        "    delayed_train_counts.append(elem)\n",
        "\n",
        "\n",
        "for train_count, delayed_train_count in zip(train_counts, delayed_train_counts):\n",
        "    if train_count != 0:\n",
        "        delay_percentages.append(delayed_train_count / train_count * 100)\n",
        "    else:\n",
        "        delay_percentages.append(0)\n",
        "\n",
        "\n",
        "\n",
        "num_bars = len(route_names)\n",
        "colors = plt.cm.viridis(np.linspace(0, 1, num_bars))\n",
        "plt.figure(figsize=(10, 6))\n",
        "bars = plt.bar(route_names, delay_percentages, color=colors, alpha=0.7, label='Delay Percentage')\n",
        "plt.xlabel('Route')\n",
        "plt.ylabel('Delay Percentage (%)')\n",
        "plt.title('Percentage of Delayed Trains per Route')\n",
        "plt.xticks(rotation=90)\n",
        "plt.tight_layout()\n",
        "plt.show()\n",
        "\n"
      ],
      "metadata": {
        "colab": {
          "base_uri": "https://localhost:8080/",
          "height": 607
        },
        "id": "eeE7G0wiSLmA",
        "outputId": "f8966c65-e076-4e95-e678-47d872c38e98"
      },
      "execution_count": 81,
      "outputs": [
        {
          "output_type": "display_data",
          "data": {
            "text/plain": [
              "<Figure size 1000x600 with 1 Axes>"
            ],
            "image/png": "[encoded data removed]"
          },
          "metadata": {}
        }
      ]
    },
    {
      "cell_type": "markdown",
      "source": [
        "Counts the number of Westbound (Towards NYC) and Eastbound (Towards Long Island) Trains."
      ],
      "metadata": {
        "id": "GU3HsBWPOjo9"
      }
    },
    {
      "cell_type": "code",
      "source": [
        "westbound_count = cleaned_data[cleaned_data['direction_id'].astype(int) == 1].shape[0]\n",
        "\n",
        "\n",
        "eastbound_count = cleaned_data[cleaned_data['direction_id'].astype(int) == 0].shape[0]\n",
        "\n",
        "\n",
        "print(f\"Number of trains Westbound: {westbound_count}\")\n",
        "print(f\"Number of trains Eastbound: {eastbound_count}\")"
      ],
      "metadata": {
        "colab": {
          "base_uri": "https://localhost:8080/"
        },
        "id": "Bz1MLIckOVam",
        "outputId": "62b00780-a195-4e9e-95e3-83d0fc91fa67"
      },
      "execution_count": 71,
      "outputs": [
        {
          "output_type": "stream",
          "name": "stdout",
          "text": [
            "Number of trains Westbound: 2832\n",
            "Number of trains Eastbound: 4089\n"
          ]
        }
      ]
    },
    {
      "cell_type": "markdown",
      "source": [
        "Counts the number of delayed trains Westbound (Towards NYC) and Eastbound (Towards Long Island) Trains"
      ],
      "metadata": {
        "id": "1ZwBm2uQPgc0"
      }
    },
    {
      "cell_type": "code",
      "source": [
        "delayed_trains = cleaned_data[cleaned_data['delay_formatted'] > 0]\n",
        "westbound_delayed_count =delayed_trains[delayed_trains['direction_id'].astype(int) == 1].shape[0]\n",
        "\n",
        "\n",
        "eastbound_delayed_count = delayed_trains[delayed_trains['direction_id'].astype(int) == 0].shape[0]\n",
        "\n",
        "\n",
        "print(f\"Number of delayed trains Westbound: {westbound_delayed_count}\")\n",
        "print(f\"Number of delayed trains Eastbound: {eastbound_delayed_count}\")\n",
        "\n",
        "westbound_delayed_perc = (westbound_delayed_count/westbound_count)*100\n",
        "eastbound_delayed_perc = (eastbound_delayed_count/eastbound_count)*100\n",
        "print(  f\"Percentage of delayed trains Westbound: {westbound_delayed_perc:.2f}%\")\n",
        "print(  f\"Percentage of delayed trains Eastbound: {eastbound_delayed_perc:.2f}%\")\n",
        "\n"
      ],
      "metadata": {
        "colab": {
          "base_uri": "https://localhost:8080/"
        },
        "id": "7hvoLO4PPz2C",
        "outputId": "b36bd291-cc95-4cf8-a4aa-c82daf7028ea"
      },
      "execution_count": 74,
      "outputs": [
        {
          "output_type": "stream",
          "name": "stdout",
          "text": [
            "Number of delayed trains Westbound: 1335\n",
            "Number of delayed trains Eastbound: 2103\n",
            "Percentage of delayed trains Westbound: 47.14%\n",
            "Percentage of delayed trains Eastbound: 51.43%\n"
          ]
        }
      ]
    },
    {
      "cell_type": "markdown",
      "metadata": {
        "id": "m0NtcNym8kNP"
      },
      "source": [
        "Counts the total number of trains, and number of delayed trains, and percentage of delayed trains (all trains in the dataset). A Delayed train in this case is any train that arrives more than 1 minute after the scheduled time."
      ]
    },
    {
      "cell_type": "code",
      "execution_count": null,
      "metadata": {
        "colab": {
          "base_uri": "https://localhost:8080/"
        },
        "id": "YAX28WQg8RU7",
        "outputId": "2480bae6-a194-40e5-e5ad-a7cda907655a"
      },
      "outputs": [
        {
          "name": "stdout",
          "output_type": "stream",
          "text": [
            "Total number of trains: 6921\n",
            "Total number of delayed trains: 3438\n",
            "Percentage of delayed trains: 49.67%\n"
          ]
        }
      ],
      "source": [
        "\n",
        "total_trains = cleaned_data.shape[0]\n",
        "delayed_trains = cleaned_data[cleaned_data['delay_formatted'] > 0].shape[0]\n",
        "percentage_delayed_trains = (delayed_trains / total_trains) * 100\n",
        "print(f\"Total number of trains: {total_trains}\")\n",
        "print(f\"Total number of delayed trains: {delayed_trains}\")\n",
        "print(f\"Percentage of delayed trains: {percentage_delayed_trains:.2f}%\")"
      ]
    },
    {
      "cell_type": "markdown",
      "metadata": {
        "id": "-uSOXbg7T0Sa"
      },
      "source": [
        "Counts the number of trains delayed per hour"
      ]
    },
    {
      "cell_type": "code",
      "execution_count": null,
      "metadata": {
        "colab": {
          "base_uri": "https://localhost:8080/"
        },
        "id": "m6OYcLg1PG4E",
        "outputId": "30808c04-cd0a-448c-82dd-f0036d5e0914"
      },
      "outputs": [
        {
          "name": "stdout",
          "output_type": "stream",
          "text": [
            "   hour  delayed_trains_count\n",
            "0    00                    17\n",
            "1    06                    18\n",
            "2    07                    73\n",
            "3    08                    94\n",
            "4    09                   169\n",
            "5    10                   288\n",
            "6    11                   355\n",
            "7    12                   389\n",
            "8    13                   413\n",
            "9    14                   462\n",
            "10   15                   514\n",
            "11   16                   684\n",
            "12   17                   836\n",
            "13   18                   868\n",
            "14   19                   688\n",
            "15   20                   448\n",
            "16   21                   331\n",
            "17   22                   193\n",
            "18   23                    81\n"
          ]
        }
      ],
      "source": [
        "delayed_trains_hour = delayed_trains_per_hour(cleaned_data)\n",
        "\n",
        "print(delayed_trains_hour)\n",
        "\n"
      ]
    },
    {
      "cell_type": "code",
      "execution_count": null,
      "metadata": {
        "colab": {
          "base_uri": "https://localhost:8080/",
          "height": 410
        },
        "id": "4e2CDEvpTpZu",
        "outputId": "06ca3e0c-3126-49ab-fc5b-39926e5ba117"
      },
      "outputs": [
        {
          "data": {
            "image/png": "[encoded data removed]",
            "text/plain": [
              "<Figure size 800x400 with 1 Axes>"
            ]
          },
          "metadata": {},
          "output_type": "display_data"
        }
      ],
      "source": [
        "\n",
        "delayed_trains_hour['delayed_trains_count'].plot(kind='line', figsize=(8, 4), title='Delayed Trains Count')\n",
        "plt.xticks(range(0, 24))\n",
        "plt.xlabel('Time (hour)')\n",
        "plt.ylabel('Delayed Trains')\n",
        "plt.show()"
      ]
    },
    {
      "cell_type": "markdown",
      "metadata": {
        "id": "ETVsp4UpUFDp"
      },
      "source": [
        "Categorize the severity of delays"
      ]
    },
    {
      "cell_type": "markdown",
      "metadata": {
        "id": "9ai8j2pEZMoJ"
      },
      "source": [
        "In general, most delays that are not exceptional delays are usually in the 0-2 min timeframe"
      ]
    },
    {
      "cell_type": "code",
      "execution_count": null,
      "metadata": {
        "colab": {
          "base_uri": "https://localhost:8080/"
        },
        "id": "rYqqdYwFUFeb",
        "outputId": "f7ecb7b4-c9ff-48b4-f507-c572135ee92d"
      },
      "outputs": [
        {
          "name": "stdout",
          "output_type": "stream",
          "text": [
            "category\n",
            "> -10 min            21\n",
            "(-10 to -5 min]     191\n",
            "(-5 to -2 min]     1808\n",
            "(-2-0 min]         1463\n",
            "(0-2 min]          2332\n",
            "(2-5 min]           939\n",
            "(5-10 min]          138\n",
            ">10+ min             29\n",
            "Name: count, dtype: int64\n"
          ]
        }
      ],
      "source": [
        "#MUST run clean data with option = -1 first\n",
        "delay_category,category_counts = category_of_delays(cleaned_data)\n",
        "\n",
        "print(category_counts)\n",
        "\n",
        "#print(delay_category)"
      ]
    },
    {
      "cell_type": "code",
      "execution_count": null,
      "metadata": {
        "colab": {
          "base_uri": "https://localhost:8080/",
          "height": 714
        },
        "id": "_gRj4muHYqlu",
        "outputId": "f486ab78-0e2d-4a95-bfa2-335fbf78672a"
      },
      "outputs": [
        {
          "name": "stderr",
          "output_type": "stream",
          "text": [
            "<ipython-input-18-ad9e1fb82a7e>:3: FutureWarning: \n",
            "\n",
            "Passing `palette` without assigning `hue` is deprecated and will be removed in v0.14.0. Assign the `x` variable to `hue` and set `legend=False` for the same effect.\n",
            "\n",
            "  seaborn.barplot(x=category_counts.index, y=category_counts.values, palette='viridis')\n"
          ]
        },
        {
          "data": {
            "image/png": "[encoded data removed]",
            "text/plain": [
              "<Figure size 1000x600 with 1 Axes>"
            ]
          },
          "metadata": {},
          "output_type": "display_data"
        }
      ],
      "source": [
        "import seaborn\n",
        "plt.figure(figsize=(10,6))\n",
        "seaborn.barplot(x=category_counts.index, y=category_counts.values, palette='viridis')\n",
        "\n",
        "# Customizing the plot\n",
        "plt.title(\"Train Delays Categorized by Time (Minutes)\", fontsize=16)\n",
        "plt.xlabel(\"Time period\", fontsize=14)\n",
        "plt.ylabel(\"Number of Delays\", fontsize=14)\n",
        "plt.xticks(rotation=45, ha=\"right\")\n",
        "plt.tight_layout()\n",
        "\n",
        "# Show the plot\n",
        "plt.show()"
      ]
    },
    {
      "cell_type": "markdown",
      "metadata": {
        "id": "DvPhekxqjSa-"
      },
      "source": []
    },
    {
      "cell_type": "code",
      "execution_count": null,
      "metadata": {
        "id": "WFNRpKsS9JNZ"
      },
      "outputs": [],
      "source": [
        "cat_delays = category_of_delays(cleaned_data)\n",
        "\n",
        "#print(cat_delays)"
      ]
    },
    {
      "cell_type": "markdown",
      "metadata": {
        "id": "NzEeUU_vD38O"
      },
      "source": [
        "Prints out the number of Peak, AM Peak, PM Peak, Off Peak, and Unknown (either due to missing gtfs update data or due to non-revenue services) trains in the dataset"
      ]
    },
    {
      "cell_type": "code",
      "execution_count": null,
      "metadata": {
        "colab": {
          "base_uri": "https://localhost:8080/"
        },
        "id": "CiVtkWwGjSJe",
        "outputId": "5c9bc31c-cf18-4a22-aba7-d5d0b118a26f"
      },
      "outputs": [
        {
          "name": "stdout",
          "output_type": "stream",
          "text": [
            "AM Peak count: 157\n",
            "PM Peak count: 1645\n",
            "Peak count: 1802\n",
            "Off Peak count: 4291\n",
            "Unknown count: 828\n",
            "Total count: 6921\n"
          ]
        }
      ],
      "source": [
        "mod_info_df, res = count_delayed_trains_info(cleaned_data)"
      ]
    },
    {
      "cell_type": "code",
      "execution_count": null,
      "metadata": {
        "colab": {
          "base_uri": "https://localhost:8080/"
        },
        "collapsed": true,
        "id": "SzMd4jwv8wxB",
        "outputId": "3f9d3a07-6062-4a1e-d7c4-75b7bd6398d9"
      },
      "outputs": [
        {
          "name": "stdout",
          "output_type": "stream",
          "text": [
            "Total delayed trains: 3438\n",
            "Average delay time (minutes): 1.80\n",
            "Number of Late trains: \n",
            "AM Peak count: 95\n",
            "PM Peak count: 899\n",
            "Peak count: 994\n",
            "Off Peak count: 2060\n",
            "Unknown count: 384\n",
            "Total count: 6921\n",
            "\n",
            "Percentage of trains Late: \n",
            "AM Peak percentage: 60.51%\n",
            "PM Peak percentage: 54.65%\n",
            "Peak percentage: 55.16%\n",
            "Off Peak percentage: 48.01%\n",
            "Unknown percentage: 46.38%\n"
          ]
        }
      ],
      "source": [
        "count_delayed_trains_info_n(mod_info_df, res)"
      ]
    },
    {
      "cell_type": "markdown",
      "metadata": {
        "id": "LmuVAPvlb1fD"
      },
      "source": [
        "Gets the number of transfers possible in the data. The number of transfers is quite low mainly due to missing gtfs data."
      ]
    },
    {
      "cell_type": "code",
      "execution_count": 67,
      "metadata": {
        "colab": {
          "base_uri": "https://localhost:8080/"
        },
        "id": "rT-IhUfpboCU",
        "outputId": "51fcdc87-b271-400f-86c4-b8089eda0093"
      },
      "outputs": [
        {
          "output_type": "stream",
          "name": "stdout",
          "text": [
            "Total transfers: 1297\n"
          ]
        }
      ],
      "source": [
        "station_id = 102 #JAM\n",
        "transfer_num = 0  # Initialize total transfer counter\n",
        "transfers_tot = []\n",
        "\n",
        "for row in cleaned_data.itertuples():\n",
        "    trip_id = row.trip_id\n",
        "    local_arrival_time = row.local_arrival_time\n",
        "    transfers = get_transfers_trip(cur, station_id, trip_id)\n",
        "    transfer_num += len(transfers)\n",
        "    #print(len(transfers))\n",
        "    transfers_tot += transfers\n",
        "\n",
        "print(f\"Total transfers: {transfer_num}\")\n",
        "#print(transfers)"
      ]
    },
    {
      "cell_type": "markdown",
      "metadata": {
        "id": "XjDJXrwjRBdR"
      },
      "source": [
        "Gets number of transfers missed due to very late trains. This is very theoretical, as transfer trains can also be late(!). The calculation is that if a train arrives later than the scheduled departure time of the transfer train or less than 3 minutes before the transfer train is scheduled to depart (as some transfers require going up and over an overpass to another platform), then the transfer is missed."
      ]
    },
    {
      "cell_type": "code",
      "execution_count": 62,
      "metadata": {
        "colab": {
          "base_uri": "https://localhost:8080/"
        },
        "id": "5Js7tfyrenqZ",
        "outputId": "b8e356a5-49a2-410f-b98b-6d3b3decf177"
      },
      "outputs": [
        {
          "output_type": "stream",
          "name": "stdout",
          "text": [
            "574\n"
          ]
        }
      ],
      "source": [
        "missed_num = analyze_transfers_trip(cur,station_id, cleaned_data)\n",
        "print(missed_num)"
      ]
    },
    {
      "cell_type": "markdown",
      "source": [
        "Percentage of theoretical missed transfers."
      ],
      "metadata": {
        "id": "wV2K9NRxHigf"
      }
    },
    {
      "cell_type": "code",
      "source": [
        "missed_num/transfer_num * 100"
      ],
      "metadata": {
        "colab": {
          "base_uri": "https://localhost:8080/"
        },
        "id": "E4fdrFstFtk1",
        "outputId": "0f917c98-9587-452d-f603-f5b7382ecc5d"
      },
      "execution_count": 64,
      "outputs": [
        {
          "output_type": "execute_result",
          "data": {
            "text/plain": [
              "44.25597532767926"
            ]
          },
          "metadata": {},
          "execution_count": 64
        }
      ]
    },
    {
      "cell_type": "code",
      "source": [],
      "metadata": {
        "id": "odBm3szuIWxc"
      },
      "execution_count": null,
      "outputs": []
    },
    {
      "cell_type": "markdown",
      "metadata": {
        "id": "uiWSNKiTOFTe"
      },
      "source": [
        "Closes the connection"
      ]
    },
    {
      "cell_type": "code",
      "execution_count": null,
      "metadata": {
        "id": "eqsDPiLJuhzB"
      },
      "outputs": [],
      "source": [
        "#con.close()"
      ]
    },
    {
      "cell_type": "markdown",
      "metadata": {
        "id": "o7iE9F0NpVt5"
      },
      "source": []
    }
  ],
  "metadata": {
    "colab": {
      "provenance": []
    },
    "kernelspec": {
      "display_name": "Python 3",
      "name": "python3"
    },
    "language_info": {
      "name": "python"
    }
  },
  "nbformat": 4,
  "nbformat_minor": 0
}